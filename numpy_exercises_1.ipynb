{
  "nbformat": 4,
  "nbformat_minor": 0,
  "metadata": {
    "colab": {
      "name": "numpy_exercises_1.ipynb",
      "provenance": [],
      "collapsed_sections": [],
      "authorship_tag": "ABX9TyPi81xNLdYuTO4MN4rzG16u",
      "include_colab_link": true
    },
    "kernelspec": {
      "name": "python3",
      "display_name": "Python 3"
    },
    "language_info": {
      "name": "python"
    }
  },
  "cells": [
    {
      "cell_type": "markdown",
      "metadata": {
        "id": "view-in-github",
        "colab_type": "text"
      },
      "source": [
        "<a href=\"https://colab.research.google.com/github/LBQTrung/NumPy/blob/main/numpy_exercises_1.ipynb\" target=\"_parent\"><img src=\"https://colab.research.google.com/assets/colab-badge.svg\" alt=\"Open In Colab\"/></a>"
      ]
    },
    {
      "cell_type": "markdown",
      "source": [
        "Import thư viện numpy"
      ],
      "metadata": {
        "id": "Y_pp4ZAFktOA"
      }
    },
    {
      "cell_type": "code",
      "source": [
        "import numpy as np"
      ],
      "metadata": {
        "id": "9wiNnAJokzJb"
      },
      "execution_count": 2,
      "outputs": []
    },
    {
      "cell_type": "markdown",
      "source": [
        "Bài 1: Xét không gian R3, một điểm A trong không gian này có tọa độ là (5, 7, 14). Hãy khởi tạo giá trị của điểm A nêu trên bằng Numpy."
      ],
      "metadata": {
        "id": "ta-1CyNakjvg"
      }
    },
    {
      "cell_type": "code",
      "source": [
        "A = np.array([5,7,14])\n",
        "print(A)"
      ],
      "metadata": {
        "colab": {
          "base_uri": "https://localhost:8080/"
        },
        "id": "WGeEDaclkkj4",
        "outputId": "1d672113-e6e6-4061-883d-b6ab0f9dd50d"
      },
      "execution_count": null,
      "outputs": [
        {
          "output_type": "stream",
          "name": "stdout",
          "text": [
            "[ 5  7 14]\n"
          ]
        }
      ]
    },
    {
      "cell_type": "markdown",
      "source": [
        "Bài 2: Mở rộng không gian lên R15, điểm A trong không gian này có tọa độ là (1, 2, 3, 4, 5, 6, 7,\n",
        "8, 9, 10, 11, 12, 13, 14, 15). Hãy khởi tạo điểm A trong không gian 15 chiều này bằng Numpy."
      ],
      "metadata": {
        "id": "VJRCfTdJl2As"
      }
    },
    {
      "cell_type": "code",
      "source": [
        "A = np.array([1, 2, 3, 4, 5, 6, 7, 8, 9, 10, 11, 12, 13, 14, 15])\n",
        "print(A)"
      ],
      "metadata": {
        "colab": {
          "base_uri": "https://localhost:8080/"
        },
        "id": "drRpVZ3Ql3Yr",
        "outputId": "433d394e-a5e9-44ea-b880-1cf144f8241f"
      },
      "execution_count": 3,
      "outputs": [
        {
          "output_type": "stream",
          "name": "stdout",
          "text": [
            "[ 1  2  3  4  5  6  7  8  9 10 11 12 13 14 15]\n"
          ]
        }
      ]
    },
    {
      "cell_type": "markdown",
      "source": [
        "Bài 3: Hãy viết chương trình sinh ngẫu nhiên một vector trong không gian Rn với n là số nguyên dương\n",
        "được nhập vào từ bàn phím. Yêu cầu: sử dụng Numpy."
      ],
      "metadata": {
        "id": "xYuiP5iDmQMW"
      }
    },
    {
      "cell_type": "code",
      "source": [
        "# Hàm kiểm tra dữ liệu nhập vào có phải là số dương hay không\n",
        "def check_positve_integer(number):\n",
        "  try:\n",
        "    if (int(number) > 0):\n",
        "      return True\n",
        "    else:\n",
        "      return False\n",
        "  except:\n",
        "    return False\n",
        "\n",
        "# Hàm sinh ngẫu nhiên điểm, vector \n",
        "# input: số điểm cần sinh ngẫu nhiên\n",
        "# output: list chứa các điểm\n",
        "# Mục đích: Tái sử dụng cho các bài sau\n",
        "def random_dot_vector(number):\n",
        "  n = input(\"Nhập số nguyên dương: \")\n",
        "\n",
        "  while not check_positve_integer(n):\n",
        "    n = input(\"Nhập số nguyên dương: \")\n",
        "  n = int(n)\n",
        "  result = [np.random.randint(0,10,n) for i in range(number)]\n",
        "  return result\n"
      ],
      "metadata": {
        "id": "CSa5KV_AmQ7u"
      },
      "execution_count": 4,
      "outputs": []
    },
    {
      "cell_type": "code",
      "source": [
        "# Sinh ngẫu nhiên vector a\n",
        "a = random_dot_vector(1)[0]\n",
        "print(a)"
      ],
      "metadata": {
        "colab": {
          "base_uri": "https://localhost:8080/"
        },
        "id": "D-Zm5yYehuz2",
        "outputId": "b4ef8a4f-e3ee-4405-fa47-5209a9d9126f"
      },
      "execution_count": 5,
      "outputs": [
        {
          "output_type": "stream",
          "name": "stdout",
          "text": [
            "Nhập số nguyên dương: 3\n",
            "[8 9 9]\n"
          ]
        }
      ]
    },
    {
      "cell_type": "markdown",
      "source": [
        "Bài 4: Hãy viết chương trình tính chiều dài của vector OA."
      ],
      "metadata": {
        "id": "7TaaDYlkYZp1"
      }
    },
    {
      "cell_type": "code",
      "source": [
        "#vector OA\n",
        "a = np.array([7,-5,8])\n",
        "# Chiều dài của vector OA\n",
        "la = np.linalg.norm(a)\n",
        "print(la)"
      ],
      "metadata": {
        "colab": {
          "base_uri": "https://localhost:8080/"
        },
        "id": "Y2j2t31JYfCr",
        "outputId": "a7d8167f-c9d7-4e6a-84d3-3d85b4abd4e8"
      },
      "execution_count": 7,
      "outputs": [
        {
          "output_type": "stream",
          "name": "stdout",
          "text": [
            "11.74734012447073\n"
          ]
        }
      ]
    },
    {
      "cell_type": "markdown",
      "source": [
        "Bài 5: Trong không gian Rn, hãy sinh ngẫu nhiên 2 điểm A và B. Xác định vector AB và tính chiều dài của vector này. Lưu ý: sử dụng Numpy."
      ],
      "metadata": {
        "id": "mGk0fc5Na54b"
      }
    },
    {
      "cell_type": "code",
      "source": [
        "# Sinh ngẫu nhiên điểm A, B:\n",
        "a,b = random_dot_vector(2)\n",
        "print(\"Điểm A: \",a)\n",
        "print(\"Điểm B: \",b)\n",
        "#Vector AB\n",
        "c = b - a\n",
        "print(\"Vector AB là: \",c)\n",
        "\n",
        "# Chiều dài vector AB\n",
        "dist = np.linalg.norm(c)\n",
        "print(\"Chiều dài vector AB là: \", dist)\n"
      ],
      "metadata": {
        "colab": {
          "base_uri": "https://localhost:8080/"
        },
        "id": "RIRheR21bCnS",
        "outputId": "c4c04c54-12b3-49b1-9cf2-f6785555cad5"
      },
      "execution_count": 8,
      "outputs": [
        {
          "output_type": "stream",
          "name": "stdout",
          "text": [
            "Nhập số nguyên dương: 3\n",
            "Điểm A:  [9 8 4]\n",
            "Điểm B:  [6 9 6]\n",
            "Vector AB là:  [-3  1  2]\n",
            "Chiều dài vector AB là:  3.7416573867739413\n"
          ]
        }
      ]
    },
    {
      "cell_type": "markdown",
      "source": [
        "Bài 6: Tích vô hướng của 2 vector"
      ],
      "metadata": {
        "id": "0GzBcy9MfDu2"
      }
    },
    {
      "cell_type": "code",
      "source": [
        "# Sinh ngẫu nhiên 2 vector a,b\n",
        "a,b = random_dot_vector(2)\n",
        "print(\"Vector a: \",a)\n",
        "print(\"Vector b: \",b)\n",
        "# Tích vô hướng của 2 vector a, b:\n",
        "c = np.inner(a,b)\n",
        "print(\"Tích vô hướng là: \",c)"
      ],
      "metadata": {
        "colab": {
          "base_uri": "https://localhost:8080/"
        },
        "id": "X0CHMm6SfIS7",
        "outputId": "d0103820-7728-4d60-b577-cbd8bfdedd85"
      },
      "execution_count": 9,
      "outputs": [
        {
          "output_type": "stream",
          "name": "stdout",
          "text": [
            "Nhập số nguyên dương: 3\n",
            "Vector a:  [7 4 2]\n",
            "Vector b:  [4 0 1]\n",
            "Tích vô hướng là:  30\n"
          ]
        }
      ]
    },
    {
      "cell_type": "markdown",
      "source": [
        "Bài 7: Tích hữu hướng (cross product) của 2 vector a"
      ],
      "metadata": {
        "id": "VN4rpfp3gEuc"
      }
    },
    {
      "cell_type": "code",
      "source": [
        "# Sinh ngẫu nhiên 2 vector a,b\n",
        "a,b = random_dot_vector(2)\n",
        "print(\"Vector a: \",a)\n",
        "print(\"Vector b: \",b)\n",
        "# Tích hữu hướng của 2 vector a, b:\n",
        "c = np.cross(a,b)\n",
        "print(\"Tích hữu hướng là: \",c)"
      ],
      "metadata": {
        "colab": {
          "base_uri": "https://localhost:8080/"
        },
        "id": "Fy1wFYOpimRB",
        "outputId": "c816bb4f-bf8f-419a-9fae-03459f5d2ccf"
      },
      "execution_count": 10,
      "outputs": [
        {
          "output_type": "stream",
          "name": "stdout",
          "text": [
            "Nhập số nguyên dương: 3\n",
            "Vector a:  [7 2 4]\n",
            "Vector b:  [1 5 5]\n",
            "Tích hữu hướng là:  [-10 -31  33]\n"
          ]
        }
      ]
    },
    {
      "cell_type": "markdown",
      "source": [
        "Bài 8: Hãy viết chương trình sinh ngẫu nhiên một vector a trong không gian Rn, số nguyên dương n được nhập vào từ bàn phím. Xuất ra màn hình giá của vector a và chuyển vị của vector a"
      ],
      "metadata": {
        "id": "l5u-qxc_kGZ8"
      }
    },
    {
      "cell_type": "code",
      "source": [
        "# Sinh ngẫu nhiên vector a\n",
        "a = random_dot_vector(1)[0]\n",
        "print(\"Vector a: \",a)\n",
        "print(\"Chuyển vị của vector a: \\n\",a.T)"
      ],
      "metadata": {
        "id": "erzoKhzUkMzC",
        "colab": {
          "base_uri": "https://localhost:8080/"
        },
        "outputId": "02856b28-2c62-4703-d440-73d99b3bc30e"
      },
      "execution_count": 11,
      "outputs": [
        {
          "output_type": "stream",
          "name": "stdout",
          "text": [
            "Nhập số nguyên dương: 3\n",
            "Vector a:  [3 0 0]\n",
            "Chuyển vị của vector a: \n",
            " [3 0 0]\n"
          ]
        }
      ]
    },
    {
      "cell_type": "markdown",
      "source": [
        "Bài 9: Hãy:\n",
        "* Xuất a và b ra màn hình\n",
        "* Tạo vector tương ứng từ a và b, xuất kết quả ra màn hình\n",
        "* Thực hiện phép chuyển vị đối với 2 vector ở trên và xuất kết quả ra màn hình."
      ],
      "metadata": {
        "id": "242ON1L6kjuc"
      }
    },
    {
      "cell_type": "code",
      "source": [
        "a = [1,2,3,4,5]\n",
        "b = [[1],[2],[3],[4],[5]]\n",
        "# Xuất a, b ra màn hình\n",
        "print(\"List a: \",a)\n",
        "print(\"List b: \",b)\n",
        "\n",
        "# Tạo vector tương ứng và xuất ra màn hình\n",
        "v_a = np.array(a)\n",
        "v_b = np.array(b)\n",
        "print(\"Vector a: \",v_a)\n",
        "print(\"Vector b: \\n\",v_b)\n",
        "\n",
        "# Chuyển vị 2 vector và xuất ra màn hình\n",
        "print(\"Vector chuyển vị của a: \",v_a.T)\n",
        "print(\"Vector chuyển vị của b: \",v_b.T)"
      ],
      "metadata": {
        "colab": {
          "base_uri": "https://localhost:8080/"
        },
        "id": "9l9wsNk0kug1",
        "outputId": "397e3886-b668-477a-ab87-649fd7b44514"
      },
      "execution_count": 14,
      "outputs": [
        {
          "output_type": "stream",
          "name": "stdout",
          "text": [
            "List a:  [1, 2, 3, 4, 5]\n",
            "List b:  [[1], [2], [3], [4], [5]]\n",
            "Vector a:  [1 2 3 4 5]\n",
            "Vector b: \n",
            " [[1]\n",
            " [2]\n",
            " [3]\n",
            " [4]\n",
            " [5]]\n",
            "Vector chuyển vị của a:  [1 2 3 4 5]\n",
            "Vector chuyển vị của b:  [[1 2 3 4 5]]\n"
          ]
        }
      ]
    },
    {
      "cell_type": "markdown",
      "source": [
        "Bài 10: Sinh ngẫu nhiên hai vector a, b\n",
        "* Thực hiện phép nhân: ma với a là vector, m là số bất kì và xuất kết quả ra màn hình\n",
        "* Thực hiện phép cộng 2 vector a + b và xuất kết quả ra màn hình"
      ],
      "metadata": {
        "id": "TmqIGZNWmNH-"
      }
    },
    {
      "cell_type": "code",
      "source": [
        "# Sinh ngẫu nhiên 2 vector a,b\n",
        "a,b = random_dot_vector(2)\n",
        "print(\"Vector a: \",a)\n",
        "print(\"Vector b: \",b)\n",
        "\n",
        "m = float(input(\"Nhập số muốn nhân với vector a: \"))\n",
        "print(f\"a * {m} = \",a * m)\n",
        "\n",
        "print(\"a + b = \", a + b)"
      ],
      "metadata": {
        "colab": {
          "base_uri": "https://localhost:8080/"
        },
        "id": "hMzW5qarm1cP",
        "outputId": "23c7b2b5-a9ac-4ad4-a4bf-4efe1ecf515d"
      },
      "execution_count": 15,
      "outputs": [
        {
          "output_type": "stream",
          "name": "stdout",
          "text": [
            "Nhập số nguyên dương: 3\n",
            "Vector a:  [7 4 9]\n",
            "Vector b:  [6 9 9]\n",
            "Nhập số muốn nhân với vector a: 5\n",
            "a * 5.0 =  [35. 20. 45.]\n",
            "a + b =  [13 13 18]\n"
          ]
        }
      ]
    }
  ]
}