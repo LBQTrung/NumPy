{
  "nbformat": 4,
  "nbformat_minor": 0,
  "metadata": {
    "colab": {
      "name": "numpy_exercises_2.ipynb",
      "provenance": [],
      "collapsed_sections": [],
      "authorship_tag": "ABX9TyP80pR/X18FO9Fv3G0JauUY",
      "include_colab_link": true
    },
    "kernelspec": {
      "name": "python3",
      "display_name": "Python 3"
    },
    "language_info": {
      "name": "python"
    }
  },
  "cells": [
    {
      "cell_type": "markdown",
      "metadata": {
        "id": "view-in-github",
        "colab_type": "text"
      },
      "source": [
        "<a href=\"https://colab.research.google.com/github/LBQTrung/NumPy/blob/main/numpy_exercises_2.ipynb\" target=\"_parent\"><img src=\"https://colab.research.google.com/assets/colab-badge.svg\" alt=\"Open In Colab\"/></a>"
      ]
    },
    {
      "cell_type": "markdown",
      "source": [
        "Import thư viện Numpy"
      ],
      "metadata": {
        "id": "WBKFH9WEKE2V"
      }
    },
    {
      "cell_type": "code",
      "source": [
        "import numpy as np"
      ],
      "metadata": {
        "id": "9TyUA4TfKCXz"
      },
      "execution_count": 2,
      "outputs": []
    },
    {
      "cell_type": "markdown",
      "source": [
        "Bài 1: Sử dụng thư viện NumPy, hãy tạo ra một ma trận A ∈ R7×5, giá trị các phần tử của ma trận được sinh ngẫu nhiên. Kết quả xuất ra màn hình."
      ],
      "metadata": {
        "id": "R0eOCBIaJlOR"
      }
    },
    {
      "cell_type": "code",
      "source": [
        "A = np.random.randint(0,20, (7,5))\n",
        "print(A)"
      ],
      "metadata": {
        "colab": {
          "base_uri": "https://localhost:8080/"
        },
        "id": "DrojKmfeJogh",
        "outputId": "8f5a1246-6cc1-43a8-9f2a-83228a68c05e"
      },
      "execution_count": null,
      "outputs": [
        {
          "output_type": "stream",
          "name": "stdout",
          "text": [
            "[[ 6 10 14 15  2]\n",
            " [15  2  6  5 17]\n",
            " [ 2  3  5 15  6]\n",
            " [10 14  4 14  3]\n",
            " [ 1  2  0 19  5]\n",
            " [11  5  9  2 16]\n",
            " [16 14  6 15 19]]\n"
          ]
        }
      ]
    },
    {
      "cell_type": "markdown",
      "source": [
        "Bài 2: Sử dụng thư viện NumPy, hãy tạo một ma trận 0 - A6×7."
      ],
      "metadata": {
        "id": "g0hv1YW2KL5n"
      }
    },
    {
      "cell_type": "code",
      "source": [
        "A = np.zeros((6,7))\n",
        "print(A)"
      ],
      "metadata": {
        "colab": {
          "base_uri": "https://localhost:8080/"
        },
        "id": "oxxQex3nKRd-",
        "outputId": "1bda20b8-2ebe-4ce3-b72c-8829448d683f"
      },
      "execution_count": null,
      "outputs": [
        {
          "output_type": "stream",
          "name": "stdout",
          "text": [
            "[[0. 0. 0. 0. 0. 0. 0.]\n",
            " [0. 0. 0. 0. 0. 0. 0.]\n",
            " [0. 0. 0. 0. 0. 0. 0.]\n",
            " [0. 0. 0. 0. 0. 0. 0.]\n",
            " [0. 0. 0. 0. 0. 0. 0.]\n",
            " [0. 0. 0. 0. 0. 0. 0.]]\n"
          ]
        }
      ]
    },
    {
      "cell_type": "markdown",
      "source": [
        "Bài 3: Sử dụng thư viện NumPy,\n",
        "hãy tạo ra một ma trận A ∈ R7×7, giá trị các phần tử của ma trận được sinh ngẫu nhiên. Kết quả xuất ra màn hình."
      ],
      "metadata": {
        "id": "9PCP1dZoKe9A"
      }
    },
    {
      "cell_type": "code",
      "source": [
        "A = np.random.randint(0,10, (7,7))\n",
        "print(A)"
      ],
      "metadata": {
        "colab": {
          "base_uri": "https://localhost:8080/"
        },
        "id": "UHmBygKCKmQz",
        "outputId": "ee913cf1-0d5d-43e9-fc86-e0b2ec59fdea"
      },
      "execution_count": null,
      "outputs": [
        {
          "output_type": "stream",
          "name": "stdout",
          "text": [
            "[[0 3 4 5 9 1 6]\n",
            " [8 9 8 0 0 3 0]\n",
            " [7 9 1 9 3 5 2]\n",
            " [8 7 7 3 7 7 4]\n",
            " [3 9 7 2 1 0 5]\n",
            " [5 5 3 7 7 2 4]\n",
            " [6 7 4 2 0 3 9]]\n"
          ]
        }
      ]
    },
    {
      "cell_type": "markdown",
      "source": [
        "Bài 4: Sử dụng thư viện NumPy, hãy tạo một ma trận chéo A6×6 với phần tử nằm trên đường chéo có giá\n",
        "trị là 15."
      ],
      "metadata": {
        "id": "oLUMcn3tK_hK"
      }
    },
    {
      "cell_type": "markdown",
      "source": [
        "Cách 1:"
      ],
      "metadata": {
        "id": "QFrVwkyiMR8h"
      }
    },
    {
      "cell_type": "code",
      "source": [
        "a = np.full([6,6], 15, dtype = int)\n",
        "print(np.diag(np.diag(a)))"
      ],
      "metadata": {
        "colab": {
          "base_uri": "https://localhost:8080/"
        },
        "id": "Skq9JprzLGaC",
        "outputId": "7ea7d593-6634-414d-df12-32591fb84b3c"
      },
      "execution_count": null,
      "outputs": [
        {
          "output_type": "stream",
          "name": "stdout",
          "text": [
            "[[15  0  0  0  0  0]\n",
            " [ 0 15  0  0  0  0]\n",
            " [ 0  0 15  0  0  0]\n",
            " [ 0  0  0 15  0  0]\n",
            " [ 0  0  0  0 15  0]\n",
            " [ 0  0  0  0  0 15]]\n"
          ]
        }
      ]
    },
    {
      "cell_type": "markdown",
      "source": [
        "Cách 2:"
      ],
      "metadata": {
        "id": "RK4hUA1UMTro"
      }
    },
    {
      "cell_type": "code",
      "source": [
        "a = np.zeros([6,6], dtype = int)\n",
        "np.fill_diagonal(a, 15)\n",
        "print(a)"
      ],
      "metadata": {
        "colab": {
          "base_uri": "https://localhost:8080/"
        },
        "id": "EsFyFtucMUrd",
        "outputId": "26f2c7d2-139a-4462-b1c8-9047f4e8f710"
      },
      "execution_count": null,
      "outputs": [
        {
          "output_type": "stream",
          "name": "stdout",
          "text": [
            "[[15  0  0  0  0  0]\n",
            " [ 0 15  0  0  0  0]\n",
            " [ 0  0 15  0  0  0]\n",
            " [ 0  0  0 15  0  0]\n",
            " [ 0  0  0  0 15  0]\n",
            " [ 0  0  0  0  0 15]]\n"
          ]
        }
      ]
    },
    {
      "cell_type": "markdown",
      "source": [
        "Bài 5: Sử dụng thư viện NumPy, hãy tạo một ma trận tam giác trên A8×8."
      ],
      "metadata": {
        "id": "LlzwZlj7NGNm"
      }
    },
    {
      "cell_type": "code",
      "source": [
        "a = np.triu(np.random.randint(0,10,[8,8]))\n",
        "print(a)"
      ],
      "metadata": {
        "colab": {
          "base_uri": "https://localhost:8080/"
        },
        "id": "eiRNAlOkNPCd",
        "outputId": "30e33681-4159-4a3f-a4ff-468e4a0f42e3"
      },
      "execution_count": null,
      "outputs": [
        {
          "output_type": "stream",
          "name": "stdout",
          "text": [
            "[[2 9 9 8 0 9 7 6]\n",
            " [0 1 3 6 6 1 6 8]\n",
            " [0 0 4 8 2 4 6 6]\n",
            " [0 0 0 4 8 1 2 3]\n",
            " [0 0 0 0 8 1 1 8]\n",
            " [0 0 0 0 0 3 9 8]\n",
            " [0 0 0 0 0 0 9 0]\n",
            " [0 0 0 0 0 0 0 9]]\n"
          ]
        }
      ]
    },
    {
      "cell_type": "markdown",
      "source": [
        "Bài 6: Tương tự bài 5, bạn hãy xây dựng\n",
        "ma trận tam giác dưới. Kết quả xuất ra màn hình."
      ],
      "metadata": {
        "id": "5szK6AEPNpl-"
      }
    },
    {
      "cell_type": "code",
      "source": [
        "a = np.tril(np.random.randint(1,10,[8,8]), k = 0)\n",
        "print(a)"
      ],
      "metadata": {
        "colab": {
          "base_uri": "https://localhost:8080/"
        },
        "id": "RKw4bJ8GNtvu",
        "outputId": "974e1934-9572-40b8-86ba-ca5c26c50a89"
      },
      "execution_count": null,
      "outputs": [
        {
          "output_type": "stream",
          "name": "stdout",
          "text": [
            "[[7 0 0 0 0 0 0 0]\n",
            " [3 9 0 0 0 0 0 0]\n",
            " [8 6 9 0 0 0 0 0]\n",
            " [9 3 4 6 0 0 0 0]\n",
            " [7 9 7 7 1 0 0 0]\n",
            " [2 6 3 7 6 1 0 0]\n",
            " [3 2 7 7 5 7 7 0]\n",
            " [5 8 7 5 7 3 3 8]]\n"
          ]
        }
      ]
    },
    {
      "cell_type": "markdown",
      "source": [
        "Bài 7: Sử dụng thư viện NumPy, hãy tạo ra một ma trận I9"
      ],
      "metadata": {
        "id": "Qg6ZX6cYOBgQ"
      }
    },
    {
      "cell_type": "code",
      "source": [
        "a = np.identity(9, dtype = int)\n",
        "print(a)"
      ],
      "metadata": {
        "colab": {
          "base_uri": "https://localhost:8080/"
        },
        "id": "UFReNin6OG7v",
        "outputId": "af1b4f02-9cdd-42e2-e49e-9447260c40b8"
      },
      "execution_count": null,
      "outputs": [
        {
          "output_type": "stream",
          "name": "stdout",
          "text": [
            "[[1 0 0 0 0 0 0 0 0]\n",
            " [0 1 0 0 0 0 0 0 0]\n",
            " [0 0 1 0 0 0 0 0 0]\n",
            " [0 0 0 1 0 0 0 0 0]\n",
            " [0 0 0 0 1 0 0 0 0]\n",
            " [0 0 0 0 0 1 0 0 0]\n",
            " [0 0 0 0 0 0 1 0 0]\n",
            " [0 0 0 0 0 0 0 1 0]\n",
            " [0 0 0 0 0 0 0 0 1]]\n"
          ]
        }
      ]
    },
    {
      "cell_type": "markdown",
      "source": [
        "Bài 8: Phép toán trên ma trận:"
      ],
      "metadata": {
        "id": "hKc0e3VEOdka"
      }
    },
    {
      "cell_type": "markdown",
      "source": [
        "* Phép cộng ma trận: Thực hiện phép cộng 2 ma trận trên và xuất giá trị các ma trận ra màn hình"
      ],
      "metadata": {
        "id": "piJOmRRuOkyJ"
      }
    },
    {
      "cell_type": "code",
      "source": [
        "# sinh ngẫu nhiên ma trận A\n",
        "A = np.random.randint(0,10, [6,7])\n",
        "print(\"Ma trận A: \\n\",A)\n",
        "\n",
        "# sinh ngẫu nhiên ma trận B\n",
        "B = np.random.randint(0,10, [6,7])\n",
        "print(\"Ma trận B: \\n\",B)\n",
        "\n",
        "# Thực hiện phép cộng và xuát ra màn hình\n",
        "print(\"A + B = \\n\", A + B)"
      ],
      "metadata": {
        "colab": {
          "base_uri": "https://localhost:8080/"
        },
        "id": "m4ILP0FnOkDf",
        "outputId": "1d6b094d-fd2c-4afb-8074-b21a6cfba1f4"
      },
      "execution_count": null,
      "outputs": [
        {
          "output_type": "stream",
          "name": "stdout",
          "text": [
            "Ma trận A: \n",
            " [[5 0 2 4 1 3 1]\n",
            " [8 6 8 7 1 8 2]\n",
            " [9 6 0 2 7 9 2]\n",
            " [8 9 1 6 9 2 8]\n",
            " [9 8 5 2 5 2 1]\n",
            " [5 8 8 7 2 1 6]]\n",
            "Ma trận B: \n",
            " [[8 1 5 1 7 8 8]\n",
            " [5 2 3 2 7 7 2]\n",
            " [1 3 8 5 5 7 8]\n",
            " [1 6 3 4 6 1 2]\n",
            " [6 9 1 9 7 4 3]\n",
            " [9 6 5 9 4 3 1]]\n",
            "A + B = \n",
            " [[13  1  7  5  8 11  9]\n",
            " [13  8 11  9  8 15  4]\n",
            " [10  9  8  7 12 16 10]\n",
            " [ 9 15  4 10 15  3 10]\n",
            " [15 17  6 11 12  6  4]\n",
            " [14 14 13 16  6  4  7]]\n"
          ]
        }
      ]
    },
    {
      "cell_type": "markdown",
      "source": [
        "* Phép nhân vô hướng một số với ma trận: Hãy sinh ngẫu nhiên 1 ma trận có kích thước 5x8. Thực hiện nhân vô hướng 1 số được nhập từ bàn phím với ma trận này. Kết quả xuất ra màn hình. "
      ],
      "metadata": {
        "id": "y8gnE6mjPhhD"
      }
    },
    {
      "cell_type": "code",
      "source": [
        "# Sinh ngẫu nhiên ma trận A\n",
        "A = np.random.randint(0,10, [6,7])\n",
        "print(\"Ma trận A: \\n\",A)\n",
        "\n",
        "# Thực hiện phép nhân vô hướngvà xuất ra màn hình\n",
        "n = float(input(\"Nhập số muốn nhân với ma trận A: \"))\n",
        "print(f\"A * {n}: \\n\", A * n)"
      ],
      "metadata": {
        "colab": {
          "base_uri": "https://localhost:8080/"
        },
        "id": "EU_aD1CcPp4n",
        "outputId": "749f4c06-3e54-4f1b-fa15-8fca9e6be612"
      },
      "execution_count": null,
      "outputs": [
        {
          "output_type": "stream",
          "name": "stdout",
          "text": [
            "Ma trận A: \n",
            " [[8 6 1 4 8 3 6]\n",
            " [8 3 6 6 4 5 2]\n",
            " [0 3 5 0 2 1 3]\n",
            " [0 7 9 7 9 2 8]\n",
            " [8 7 8 7 6 1 1]\n",
            " [0 2 2 2 2 8 5]]\n",
            "Nhập số muốn nhân với ma trận A: 3\n",
            "A * 3.0: \n",
            " [[24. 18.  3. 12. 24.  9. 18.]\n",
            " [24.  9. 18. 18. 12. 15.  6.]\n",
            " [ 0.  9. 15.  0.  6.  3.  9.]\n",
            " [ 0. 21. 27. 21. 27.  6. 24.]\n",
            " [24. 21. 24. 21. 18.  3.  3.]\n",
            " [ 0.  6.  6.  6.  6. 24. 15.]]\n"
          ]
        }
      ]
    },
    {
      "cell_type": "markdown",
      "source": [
        "* Phép chuyển vị ma trận: Sinh ngẫu nhiên một ma trận có kích thước 3x7. Thực hiện phép\n",
        "chuyển vị đối với ma trận này. Xuất các ma trận này ra màn hình."
      ],
      "metadata": {
        "id": "3EPgz037QSix"
      }
    },
    {
      "cell_type": "code",
      "source": [
        "# Sinh ngẫu nhiên ma trận A 3x7\n",
        "A = np.random.randint(0,10, [3,7])\n",
        "print(\"Ma trận A: \\n\",A)\n",
        "\n",
        "# Chuyển vị và xuất ra màn hình\n",
        "print(\"Ma trận chuyển vị của A: \\n\",A.T)"
      ],
      "metadata": {
        "colab": {
          "base_uri": "https://localhost:8080/"
        },
        "id": "VDsptuZrQVWw",
        "outputId": "509e54bd-de0c-40ce-c28e-d8fc3058bf56"
      },
      "execution_count": null,
      "outputs": [
        {
          "output_type": "stream",
          "name": "stdout",
          "text": [
            "Ma trận A: \n",
            " [[2 8 8 2 2 9 1]\n",
            " [5 5 1 5 6 1 0]\n",
            " [8 4 4 0 5 2 5]]\n",
            "Ma trận chuyển vị của A: \n",
            " [[2 5 8]\n",
            " [8 5 4]\n",
            " [8 1 4]\n",
            " [2 5 0]\n",
            " [2 6 5]\n",
            " [9 1 2]\n",
            " [1 0 5]]\n"
          ]
        }
      ]
    },
    {
      "cell_type": "markdown",
      "source": [
        "* Phép nhân 2 ma trận: Am×n ∙ Bn×p = Cm×p. Hãy sinh ngẫu nhiên 2 ma trận A5×7 và B7×3, tiến hành nhân 2 ma trận này để thu được ma trận C5×3. Xuất các ma trận trên ra màn hình."
      ],
      "metadata": {
        "id": "gDqxHubvQqTa"
      }
    },
    {
      "cell_type": "code",
      "source": [
        "# Sinh ngẫu nhiên ma trận A kích thước 5x7\n",
        "A = np.random.randint(0,10, [5,7])\n",
        "print(\"Ma trận A: \\n\",A)\n",
        "\n",
        "# Sinh ngẫu nhiên ma trận B kích thước 7x3\n",
        "B = np.random.randint(0,10, [7,3])\n",
        "print(\"Ma trận B: \\n\",B)\n",
        "\n",
        "# Để có kết quả là ma trận C kích thước 5x3\n",
        "# Suy ra C = AB\n",
        "# Ta tiến hành nhân và xuất ra màn hình\n",
        "\n",
        "print(\"Ma trận C: \\n\",A.dot(B))\n"
      ],
      "metadata": {
        "colab": {
          "base_uri": "https://localhost:8080/"
        },
        "id": "MlcxO92vQtnJ",
        "outputId": "280b2226-f565-48ff-94e6-7c6c5f84c701"
      },
      "execution_count": null,
      "outputs": [
        {
          "output_type": "stream",
          "name": "stdout",
          "text": [
            "Ma trận A: \n",
            " [[1 5 7 3 7 2 9]\n",
            " [7 4 9 9 9 2 1]\n",
            " [4 7 6 3 4 2 3]\n",
            " [1 1 0 6 2 4 1]\n",
            " [9 0 7 7 5 5 0]]\n",
            "Ma trận B: \n",
            " [[4 8 3]\n",
            " [0 7 7]\n",
            " [7 9 5]\n",
            " [0 1 8]\n",
            " [1 9 3]\n",
            " [0 9 8]\n",
            " [1 0 9]]\n",
            "Ma trận C: \n",
            " [[ 69 190 215]\n",
            " [101 273 218]\n",
            " [ 65 192 170]\n",
            " [  7  75 105]\n",
            " [ 90 232 173]]\n"
          ]
        }
      ]
    },
    {
      "cell_type": "markdown",
      "source": [
        "* Ma trận khả nghịch: ma trận vuông An×n gọi là khả nghịch (hay không suy biến) nếu tồn tại một ma trận vuông Bn×n sao cho A ∙ B = In . Khi này, B được gọi là ma trận nghịch đảo của A và ký hiệu là A mũ -1. Cho ma trận A5×7, hãy tính ma trận khả nghịch của A."
      ],
      "metadata": {
        "id": "Z2HT_6JURnSH"
      }
    },
    {
      "cell_type": "code",
      "source": [
        "# Vì ma trận khả nghịch điều kiện đầu tiên là ma trận vuông\n",
        "# Nên em xin phép sinh ngẫu nhiên ma trận A kích thước 7x7\n",
        "A = np.random.randint(0,10, [5,5])\n",
        "print(\"ma trận A: \\n\", A)\n",
        "\n",
        "# Một ma trận được gọi là khả nghịch nếu nó tồn tại ma trận nghịch đảo\n",
        "# Mệnh để trên tương đương với định thức của ma trận đó khác 0\n",
        "# Ta tiến hành tính định thức:\n",
        "det_A = np.linalg.det(A)\n",
        "\n",
        "# Tìm ma trận nghịch đảo(nếu có) của A\n",
        "if (det_A != 0):\n",
        "  print(\"Ma trận nghịch đảo của A là:\\n\",np.linalg.inv(A))\n",
        "else:\n",
        "  print(\"A không tồn tại ma trận nghịch đảo\")\n"
      ],
      "metadata": {
        "colab": {
          "base_uri": "https://localhost:8080/"
        },
        "id": "GMUMJLYYRtq7",
        "outputId": "172a2276-de24-43b7-f141-ea7b1480a692"
      },
      "execution_count": null,
      "outputs": [
        {
          "output_type": "stream",
          "name": "stdout",
          "text": [
            "ma trận A: \n",
            " [[7 2 0 1 2]\n",
            " [2 5 4 8 3]\n",
            " [6 7 0 6 6]\n",
            " [9 9 5 2 0]\n",
            " [6 8 1 8 3]]\n",
            "Ma trận nghịch đảo của A là:\n",
            " [[ 0.20155627  0.00664263 -0.08996014 -0.01309546  0.03890681]\n",
            " [-0.23799582 -0.13778706  0.12317328  0.10020877  0.05010438]\n",
            " [ 0.03074587  0.20440311  0.00322642  0.08274815 -0.2313532 ]\n",
            " [ 0.0871133   0.07914215 -0.15752515 -0.09888024  0.17783261]\n",
            " [-0.01100778  0.07496679  0.2704498  -0.00493452 -0.27519453]]\n"
          ]
        }
      ]
    },
    {
      "cell_type": "markdown",
      "source": [
        "Bài 9: Sử dụng numpy để thực hiện các yêu cầu sau\n",
        "* Vector hàng (row vector) thực chất là ma trận có kích thước 1 × n. Hãy tạo ngẫu nhiên 1 vector hàng - x có kích thước 1 × 8. Kết quả xuất ra màn hình.\n",
        "* Vector cột (column vector) thực chất là ma trận có kích thước m × 1. Hãy tạo ngẫu nhiên 1 vector cột – x có kích thước 8 × 1. Kết quả xuất ra màn hình."
      ],
      "metadata": {
        "id": "f5hKr7yNVNOs"
      }
    },
    {
      "cell_type": "code",
      "source": [
        "# Sinh ngẫu nhiên vector hàng\n",
        "row_vector = np.random.randint(0,10, (1,8))\n",
        "print(\"Vector hàng: \\n\", row_vector)\n",
        "\n",
        "# Sinh ngẫu nhiên vector cột\n",
        "column_vector = np.random.randint(0,10, (8,1))\n",
        "print(\"Vector cột: \\n\", column_vector)"
      ],
      "metadata": {
        "colab": {
          "base_uri": "https://localhost:8080/"
        },
        "id": "Tsw-ES8eVX31",
        "outputId": "7a2d40a3-20c2-4fb0-ebdc-103c457e8afe"
      },
      "execution_count": null,
      "outputs": [
        {
          "output_type": "stream",
          "name": "stdout",
          "text": [
            "Vector hàng: \n",
            " [[4 1 5 3 5 3 4 6]]\n",
            "Vector cột: \n",
            " [[7]\n",
            " [7]\n",
            " [2]\n",
            " [5]\n",
            " [9]\n",
            " [1]\n",
            " [7]\n",
            " [1]]\n"
          ]
        }
      ]
    },
    {
      "cell_type": "markdown",
      "source": [
        "Bài 10: Xây dựng chương trình Python sử dụng thư viện NumPy để giải hệ phương trình tuyến tính có dạng: \n",
        "![image.png](data:image/png;base64,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)"
      ],
      "metadata": {
        "id": "6KdzxIyEVwmQ"
      }
    },
    {
      "cell_type": "code",
      "source": [
        "m = int(input(\"Số phương trình: \"))\n",
        "n = int(input(\"Số ẩn: \"))\n",
        "index_list = []\n",
        "value_list = []\n",
        "# Nhập giá trị các hệ số \n",
        "for i in range(m):\n",
        "    print(f\"-------Phương trình {i+1}------\")\n",
        "    for y in range(n):\n",
        "        temp1 = float(input(f\"x[{i+1}][{y+1}] = \"))\n",
        "        index_list.append(temp1)\n",
        "    temp2 = float(input(f\"b[{i+1}] = \"))\n",
        "    value_list.append(temp2)\n",
        "\n",
        "A = np.array(index_list).reshape((m,n))\n",
        "b = np.array(value_list).reshape((m,1))\n",
        "\n",
        "# Ma trận hệ số bổ sung:\n",
        "A_extra = np.concatenate((A,b), axis = 1)\n",
        "\n",
        "if (np.linalg.matrix_rank(A) < np.linalg.matrix_rank(A_extra)):\n",
        "    print(\"Hệ phương trình vô nghiệm\")\n",
        "elif (np.linalg.matrix_rank(A) == np.linalg.matrix_rank(A_extra) and np.linalg.matrix_rank(A) < n):\n",
        "    print(\"Hệ phương trình có vô số nghiệm\")\n",
        "else:\n",
        "    print(\"Hệ phương trình có nghiệm duy nhất\")\n",
        "    print(\"Tập nghiệm của hệ là: \\n\",np.linalg.inv(A).dot(b))"
      ],
      "metadata": {
        "id": "MwJM0qmtV6cK",
        "colab": {
          "base_uri": "https://localhost:8080/"
        },
        "outputId": "fba7aa0f-8d85-4dcc-ef46-5dfab4ce6d8a"
      },
      "execution_count": 5,
      "outputs": [
        {
          "output_type": "stream",
          "name": "stdout",
          "text": [
            "Số phương trình: 3\n",
            "Số ẩn: 3\n",
            "-------Phương trình 1------\n",
            "x[1][1] = 1\n",
            "x[1][2] = -1\n",
            "x[1][3] = 0\n",
            "b[1] = -1\n",
            "-------Phương trình 2------\n",
            "x[2][1] = 2\n",
            "x[2][2] = 1\n",
            "x[2][3] = -1\n",
            "b[2] = 1\n",
            "-------Phương trình 3------\n",
            "x[3][1] = 0\n",
            "x[3][2] = 1\n",
            "x[3][3] = 1\n",
            "b[3] = 5\n",
            "Hệ phương trình có nghiệm duy nhất\n",
            "Tập nghiệm của hệ là: \n",
            " [[1.]\n",
            " [2.]\n",
            " [3.]]\n"
          ]
        }
      ]
    }
  ]
}