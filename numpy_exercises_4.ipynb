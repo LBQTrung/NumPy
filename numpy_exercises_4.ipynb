{
  "nbformat": 4,
  "nbformat_minor": 0,
  "metadata": {
    "colab": {
      "name": "numpy_exercises_4.ipynb",
      "provenance": [],
      "collapsed_sections": [],
      "authorship_tag": "ABX9TyMUkGY0SL/C/EFQYoms1D6X",
      "include_colab_link": true
    },
    "kernelspec": {
      "name": "python3",
      "display_name": "Python 3"
    },
    "language_info": {
      "name": "python"
    }
  },
  "cells": [
    {
      "cell_type": "markdown",
      "metadata": {
        "id": "view-in-github",
        "colab_type": "text"
      },
      "source": [
        "<a href=\"https://colab.research.google.com/github/LBQTrung/NumPy/blob/main/numpy_exercises_4.ipynb\" target=\"_parent\"><img src=\"https://colab.research.google.com/assets/colab-badge.svg\" alt=\"Open In Colab\"/></a>"
      ]
    },
    {
      "cell_type": "markdown",
      "source": [
        "Import thư viện Numpy:"
      ],
      "metadata": {
        "id": "RZwbEyezCt6g"
      }
    },
    {
      "cell_type": "code",
      "source": [
        "import numpy as np"
      ],
      "metadata": {
        "id": "ldzht1asCxs4"
      },
      "execution_count": 1,
      "outputs": []
    },
    {
      "cell_type": "markdown",
      "source": [
        "Câu 1: Sử dụng thư viện Numpy, hãy tạo một vector a có 7 chiều (tương ứng 7 phần tử) với giá\n",
        "trị các phần tử được sinh bằng hàm (kết quả xuất ra màn hình):\n",
        "- np.arrange()\n",
        "- np.linspace()\n",
        "- np.logspace()\n",
        "- np.random.rand()"
      ],
      "metadata": {
        "id": "BhwBfwUiCajx"
      }
    },
    {
      "cell_type": "markdown",
      "source": [
        "Tạo hàm ghi chú:"
      ],
      "metadata": {
        "id": "4aIW_9yRFqa-"
      }
    },
    {
      "cell_type": "code",
      "source": [
        "def note(vector_a):\n",
        "  print(\"Vector a: \",vector_a)\n",
        "  print(\"Số chiều của vector a: \", vector_a.size)\n",
        "  print(\"Kích thước của vector_a: \", vector_a.shape)\n",
        "  print()\n",
        "  print(\"Vector chuyển vị của a: \\n\", vector_a.reshape(7,1))\n",
        "  print(\"Số chiều của vector chuyển vị của a: \", (vector_a.reshape(len(vector_a),1)).size)\n",
        "  print(\"Kích thước của chuyển vị của  vector_a: \", vector_a.reshape(len(vector_a),1).shape)"
      ],
      "metadata": {
        "id": "EXQnWwNZFphY"
      },
      "execution_count": 3,
      "outputs": []
    },
    {
      "cell_type": "markdown",
      "source": [
        "* np.arange():"
      ],
      "metadata": {
        "id": "qYqAU3I8CjkA"
      }
    },
    {
      "cell_type": "code",
      "source": [
        "vector_a = np.arange(0,7,1)\n",
        "note(vector_a)"
      ],
      "metadata": {
        "colab": {
          "base_uri": "https://localhost:8080/"
        },
        "id": "kbt8dANwC0og",
        "outputId": "621b356a-8ba3-420f-f9a3-0b9c6696501e"
      },
      "execution_count": 4,
      "outputs": [
        {
          "output_type": "stream",
          "name": "stdout",
          "text": [
            "Vector a:  [0 1 2 3 4 5 6]\n",
            "Số chiều của vector a:  7\n",
            "Kích thước của vector_a:  (7,)\n",
            "\n",
            "Vector chuyển vị của a: \n",
            " [[0]\n",
            " [1]\n",
            " [2]\n",
            " [3]\n",
            " [4]\n",
            " [5]\n",
            " [6]]\n",
            "Số chiều của vector chuyển vị của a:  7\n",
            "Kích thước của chuyển vị của  vector_a:  (7, 1)\n"
          ]
        }
      ]
    },
    {
      "cell_type": "markdown",
      "source": [
        "* np.linspace():"
      ],
      "metadata": {
        "id": "eUs7i9BsDpMJ"
      }
    },
    {
      "cell_type": "code",
      "source": [
        "vector_a = np.linspace(0,10,num = 7)\n",
        "note(vector_a)\n"
      ],
      "metadata": {
        "colab": {
          "base_uri": "https://localhost:8080/"
        },
        "id": "0KLKmWNXDtpA",
        "outputId": "8c1537ac-c27c-4ed6-9f15-ac955a29333c"
      },
      "execution_count": 5,
      "outputs": [
        {
          "output_type": "stream",
          "name": "stdout",
          "text": [
            "Vector a:  [ 0.          1.66666667  3.33333333  5.          6.66666667  8.33333333\n",
            " 10.        ]\n",
            "Số chiều của vector a:  7\n",
            "Kích thước của vector_a:  (7,)\n",
            "\n",
            "Vector chuyển vị của a: \n",
            " [[ 0.        ]\n",
            " [ 1.66666667]\n",
            " [ 3.33333333]\n",
            " [ 5.        ]\n",
            " [ 6.66666667]\n",
            " [ 8.33333333]\n",
            " [10.        ]]\n",
            "Số chiều của vector chuyển vị của a:  7\n",
            "Kích thước của chuyển vị của  vector_a:  (7, 1)\n"
          ]
        }
      ]
    },
    {
      "cell_type": "markdown",
      "source": [
        "* np.logspace():"
      ],
      "metadata": {
        "id": "PzCu4SYNEBWw"
      }
    },
    {
      "cell_type": "code",
      "source": [
        "vector_a = np.logspace(1,2, num = 7)\n",
        "note(vector_a)"
      ],
      "metadata": {
        "colab": {
          "base_uri": "https://localhost:8080/"
        },
        "id": "PDZC7TuXEFQQ",
        "outputId": "2646c110-2dc8-41a7-8748-25657f7ecf01"
      },
      "execution_count": 6,
      "outputs": [
        {
          "output_type": "stream",
          "name": "stdout",
          "text": [
            "Vector a:  [ 10.          14.67799268  21.5443469   31.6227766   46.41588834\n",
            "  68.12920691 100.        ]\n",
            "Số chiều của vector a:  7\n",
            "Kích thước của vector_a:  (7,)\n",
            "\n",
            "Vector chuyển vị của a: \n",
            " [[ 10.        ]\n",
            " [ 14.67799268]\n",
            " [ 21.5443469 ]\n",
            " [ 31.6227766 ]\n",
            " [ 46.41588834]\n",
            " [ 68.12920691]\n",
            " [100.        ]]\n",
            "Số chiều của vector chuyển vị của a:  7\n",
            "Kích thước của chuyển vị của  vector_a:  (7, 1)\n"
          ]
        }
      ]
    },
    {
      "cell_type": "markdown",
      "source": [
        "* np.random.rand():"
      ],
      "metadata": {
        "id": "RTXVe87AKyr_"
      }
    },
    {
      "cell_type": "code",
      "source": [
        "vector_a = np.random.rand(7)\n",
        "note(vector_a)"
      ],
      "metadata": {
        "colab": {
          "base_uri": "https://localhost:8080/"
        },
        "id": "IXqr16NjLKV2",
        "outputId": "64de693b-a1ee-4f9c-ac20-aafd9b8de8b6"
      },
      "execution_count": 7,
      "outputs": [
        {
          "output_type": "stream",
          "name": "stdout",
          "text": [
            "Vector a:  [0.51297983 0.54809721 0.00471024 0.42342072 0.78923386 0.31267869\n",
            " 0.4617374 ]\n",
            "Số chiều của vector a:  7\n",
            "Kích thước của vector_a:  (7,)\n",
            "\n",
            "Vector chuyển vị của a: \n",
            " [[0.51297983]\n",
            " [0.54809721]\n",
            " [0.00471024]\n",
            " [0.42342072]\n",
            " [0.78923386]\n",
            " [0.31267869]\n",
            " [0.4617374 ]]\n",
            "Số chiều của vector chuyển vị của a:  7\n",
            "Kích thước của chuyển vị của  vector_a:  (7, 1)\n"
          ]
        }
      ]
    },
    {
      "cell_type": "markdown",
      "source": [
        "Câu 2: Sử dụng thư viện Numpy, hãy tạo ra ma trận A10x7 với giá trị các phần tử của ma trận A\n",
        "được sinh bởi:\n",
        "- np.arrange()\n",
        "- np.linspace()\n",
        "- np.logspace()\n",
        "- np.random.rand()"
      ],
      "metadata": {
        "id": "W_esmI7VNUaW"
      }
    },
    {
      "cell_type": "markdown",
      "source": [
        "* Tạo hàm xuất kết quả:"
      ],
      "metadata": {
        "id": "EBb0QgeK44oK"
      }
    },
    {
      "cell_type": "code",
      "source": [
        "def output_result(matrix_A):\n",
        "  print(\"Ma trận A: \\n\", matrix_A)\n",
        "  print(\"Số chiều của A: \", matrix_A.ndim)\n",
        "  print(\"Kích thước của A: \", matrix_A.shape)\n",
        "  print()\n",
        "  print(\"Ma trận chuyển vị của A: \\n\", matrix_A.T)\n",
        "  print(\"Số chiều của chuyển vị của A: \", (matrix_A.T).ndim)\n",
        "  print(\"Kích thước của chuyển vị của A: \", (matrix_A.T).shape)"
      ],
      "metadata": {
        "id": "fW7Mm6RA49wZ"
      },
      "execution_count": null,
      "outputs": []
    },
    {
      "cell_type": "markdown",
      "source": [
        "* np.arrange()"
      ],
      "metadata": {
        "id": "pY6rDxm45uir"
      }
    },
    {
      "cell_type": "code",
      "source": [
        "matrix_A = np.arange(0,70,1).reshape(10,7)\n",
        "output_result(matrix_A)"
      ],
      "metadata": {
        "colab": {
          "base_uri": "https://localhost:8080/"
        },
        "id": "Jn_6xWn25xia",
        "outputId": "7ffead46-478f-41bd-df6e-b7bddfa53c19"
      },
      "execution_count": null,
      "outputs": [
        {
          "output_type": "stream",
          "name": "stdout",
          "text": [
            "Ma trận A: \n",
            " [[ 0  1  2  3  4  5  6]\n",
            " [ 7  8  9 10 11 12 13]\n",
            " [14 15 16 17 18 19 20]\n",
            " [21 22 23 24 25 26 27]\n",
            " [28 29 30 31 32 33 34]\n",
            " [35 36 37 38 39 40 41]\n",
            " [42 43 44 45 46 47 48]\n",
            " [49 50 51 52 53 54 55]\n",
            " [56 57 58 59 60 61 62]\n",
            " [63 64 65 66 67 68 69]]\n",
            "Số chiều của A:  2\n",
            "Kích thước của A:  (10, 7)\n",
            "\n",
            "Ma trận chuyển vị của A: \n",
            " [[ 0  7 14 21 28 35 42 49 56 63]\n",
            " [ 1  8 15 22 29 36 43 50 57 64]\n",
            " [ 2  9 16 23 30 37 44 51 58 65]\n",
            " [ 3 10 17 24 31 38 45 52 59 66]\n",
            " [ 4 11 18 25 32 39 46 53 60 67]\n",
            " [ 5 12 19 26 33 40 47 54 61 68]\n",
            " [ 6 13 20 27 34 41 48 55 62 69]]\n",
            "Số chiều của chuyển vị của A:  2\n",
            "Kích thước của chuyển vị của A:  (7, 10)\n"
          ]
        }
      ]
    },
    {
      "cell_type": "markdown",
      "source": [
        "* np.linspace():"
      ],
      "metadata": {
        "id": "A_UliUFh6FfH"
      }
    },
    {
      "cell_type": "code",
      "source": [
        "matrix_A = np.linspace((1,1,1,1,1,1,1),(100,100,100,100,100,100,100),10)\n",
        "output_result(matrix_A)"
      ],
      "metadata": {
        "colab": {
          "base_uri": "https://localhost:8080/"
        },
        "id": "kGr6fyRf6HpG",
        "outputId": "e65d6e8b-ad41-4fc2-89bf-334e06c939c1"
      },
      "execution_count": null,
      "outputs": [
        {
          "output_type": "stream",
          "name": "stdout",
          "text": [
            "Ma trận A: \n",
            " [[  1.   1.   1.   1.   1.   1.   1.]\n",
            " [ 12.  12.  12.  12.  12.  12.  12.]\n",
            " [ 23.  23.  23.  23.  23.  23.  23.]\n",
            " [ 34.  34.  34.  34.  34.  34.  34.]\n",
            " [ 45.  45.  45.  45.  45.  45.  45.]\n",
            " [ 56.  56.  56.  56.  56.  56.  56.]\n",
            " [ 67.  67.  67.  67.  67.  67.  67.]\n",
            " [ 78.  78.  78.  78.  78.  78.  78.]\n",
            " [ 89.  89.  89.  89.  89.  89.  89.]\n",
            " [100. 100. 100. 100. 100. 100. 100.]]\n",
            "Số chiều của A:  2\n",
            "Kích thước của A:  (10, 7)\n",
            "\n",
            "Ma trận chuyển vị của A: \n",
            " [[  1.  12.  23.  34.  45.  56.  67.  78.  89. 100.]\n",
            " [  1.  12.  23.  34.  45.  56.  67.  78.  89. 100.]\n",
            " [  1.  12.  23.  34.  45.  56.  67.  78.  89. 100.]\n",
            " [  1.  12.  23.  34.  45.  56.  67.  78.  89. 100.]\n",
            " [  1.  12.  23.  34.  45.  56.  67.  78.  89. 100.]\n",
            " [  1.  12.  23.  34.  45.  56.  67.  78.  89. 100.]\n",
            " [  1.  12.  23.  34.  45.  56.  67.  78.  89. 100.]]\n",
            "Số chiều của chuyển vị của A:  2\n",
            "Kích thước của chuyển vị của A:  (7, 10)\n"
          ]
        }
      ]
    },
    {
      "cell_type": "markdown",
      "source": [
        "* np.logspace():"
      ],
      "metadata": {
        "id": "neBox4xM6mQb"
      }
    },
    {
      "cell_type": "code",
      "source": [
        "matrix_A = np.logspace((1,1,1,1,1,1,1),(3,3,3,3,3,3,3),10)\n",
        "output_result(matrix_A)"
      ],
      "metadata": {
        "colab": {
          "base_uri": "https://localhost:8080/"
        },
        "id": "3HVxWFRr6oCr",
        "outputId": "1938e80c-1654-48b6-b28b-89e805422d2d"
      },
      "execution_count": null,
      "outputs": [
        {
          "output_type": "stream",
          "name": "stdout",
          "text": [
            "Ma trận A: \n",
            " [[  10.           10.           10.           10.           10.\n",
            "    10.           10.        ]\n",
            " [  16.68100537   16.68100537   16.68100537   16.68100537   16.68100537\n",
            "    16.68100537   16.68100537]\n",
            " [  27.82559402   27.82559402   27.82559402   27.82559402   27.82559402\n",
            "    27.82559402   27.82559402]\n",
            " [  46.41588834   46.41588834   46.41588834   46.41588834   46.41588834\n",
            "    46.41588834   46.41588834]\n",
            " [  77.42636827   77.42636827   77.42636827   77.42636827   77.42636827\n",
            "    77.42636827   77.42636827]\n",
            " [ 129.1549665   129.1549665   129.1549665   129.1549665   129.1549665\n",
            "   129.1549665   129.1549665 ]\n",
            " [ 215.443469    215.443469    215.443469    215.443469    215.443469\n",
            "   215.443469    215.443469  ]\n",
            " [ 359.38136638  359.38136638  359.38136638  359.38136638  359.38136638\n",
            "   359.38136638  359.38136638]\n",
            " [ 599.48425032  599.48425032  599.48425032  599.48425032  599.48425032\n",
            "   599.48425032  599.48425032]\n",
            " [1000.         1000.         1000.         1000.         1000.\n",
            "  1000.         1000.        ]]\n",
            "Số chiều của A:  2\n",
            "Kích thước của A:  (10, 7)\n",
            "\n",
            "Ma trận chuyển vị của A: \n",
            " [[  10.           16.68100537   27.82559402   46.41588834   77.42636827\n",
            "   129.1549665   215.443469    359.38136638  599.48425032 1000.        ]\n",
            " [  10.           16.68100537   27.82559402   46.41588834   77.42636827\n",
            "   129.1549665   215.443469    359.38136638  599.48425032 1000.        ]\n",
            " [  10.           16.68100537   27.82559402   46.41588834   77.42636827\n",
            "   129.1549665   215.443469    359.38136638  599.48425032 1000.        ]\n",
            " [  10.           16.68100537   27.82559402   46.41588834   77.42636827\n",
            "   129.1549665   215.443469    359.38136638  599.48425032 1000.        ]\n",
            " [  10.           16.68100537   27.82559402   46.41588834   77.42636827\n",
            "   129.1549665   215.443469    359.38136638  599.48425032 1000.        ]\n",
            " [  10.           16.68100537   27.82559402   46.41588834   77.42636827\n",
            "   129.1549665   215.443469    359.38136638  599.48425032 1000.        ]\n",
            " [  10.           16.68100537   27.82559402   46.41588834   77.42636827\n",
            "   129.1549665   215.443469    359.38136638  599.48425032 1000.        ]]\n",
            "Số chiều của chuyển vị của A:  2\n",
            "Kích thước của chuyển vị của A:  (7, 10)\n"
          ]
        }
      ]
    },
    {
      "cell_type": "markdown",
      "source": [
        "* np.random.rand():\n",
        "\n"
      ],
      "metadata": {
        "id": "0kxigTPs6wdR"
      }
    },
    {
      "cell_type": "code",
      "source": [
        "matrix_A = np.random.rand(10,7)\n",
        "output_result(matrix_A)"
      ],
      "metadata": {
        "colab": {
          "base_uri": "https://localhost:8080/"
        },
        "id": "XsN1nFW66zta",
        "outputId": "2621231a-7709-4236-a3b3-3cfb4e30f620"
      },
      "execution_count": null,
      "outputs": [
        {
          "output_type": "stream",
          "name": "stdout",
          "text": [
            "Ma trận A: \n",
            " [[0.85665165 0.33292284 0.85783392 0.7147777  0.1799201  0.43435635\n",
            "  0.54119006]\n",
            " [0.40356866 0.63512268 0.47896718 0.06379604 0.0013522  0.0680864\n",
            "  0.06315829]\n",
            " [0.89953329 0.1607472  0.73569835 0.2773898  0.72416393 0.98008893\n",
            "  0.59890158]\n",
            " [0.31712494 0.36788132 0.83047616 0.5463873  0.48034846 0.35214833\n",
            "  0.40610528]\n",
            " [0.99899546 0.587354   0.4629964  0.09831111 0.83536506 0.29534804\n",
            "  0.91996561]\n",
            " [0.08678592 0.48928523 0.20069851 0.47705411 0.50307849 0.79221735\n",
            "  0.28762326]\n",
            " [0.2278749  0.89859231 0.99382112 0.41431723 0.93210762 0.06071208\n",
            "  0.8777719 ]\n",
            " [0.80046415 0.35953994 0.85620601 0.36965418 0.18996341 0.57347418\n",
            "  0.04302332]\n",
            " [0.83640105 0.41556592 0.02063461 0.45283453 0.27656851 0.2085322\n",
            "  0.61011161]\n",
            " [0.40457751 0.86660242 0.44377594 0.559653   0.60297692 0.21651696\n",
            "  0.01680578]]\n",
            "Số chiều của A:  2\n",
            "Kích thước của A:  (10, 7)\n",
            "\n",
            "Ma trận chuyển vị của A: \n",
            " [[0.85665165 0.40356866 0.89953329 0.31712494 0.99899546 0.08678592\n",
            "  0.2278749  0.80046415 0.83640105 0.40457751]\n",
            " [0.33292284 0.63512268 0.1607472  0.36788132 0.587354   0.48928523\n",
            "  0.89859231 0.35953994 0.41556592 0.86660242]\n",
            " [0.85783392 0.47896718 0.73569835 0.83047616 0.4629964  0.20069851\n",
            "  0.99382112 0.85620601 0.02063461 0.44377594]\n",
            " [0.7147777  0.06379604 0.2773898  0.5463873  0.09831111 0.47705411\n",
            "  0.41431723 0.36965418 0.45283453 0.559653  ]\n",
            " [0.1799201  0.0013522  0.72416393 0.48034846 0.83536506 0.50307849\n",
            "  0.93210762 0.18996341 0.27656851 0.60297692]\n",
            " [0.43435635 0.0680864  0.98008893 0.35214833 0.29534804 0.79221735\n",
            "  0.06071208 0.57347418 0.2085322  0.21651696]\n",
            " [0.54119006 0.06315829 0.59890158 0.40610528 0.91996561 0.28762326\n",
            "  0.8777719  0.04302332 0.61011161 0.01680578]]\n",
            "Số chiều của chuyển vị của A:  2\n",
            "Kích thước của chuyển vị của A:  (7, 10)\n"
          ]
        }
      ]
    },
    {
      "cell_type": "markdown",
      "source": [
        "Câu 3: Sử dụng thư viện Numpy, hãy:\n",
        "- Chuyển ma trận A ở câu 2 thành vector. (Gợi ý: sử dụng hàm flatten())"
      ],
      "metadata": {
        "id": "zyiTxh5M9v3V"
      }
    },
    {
      "cell_type": "code",
      "source": [
        "matrix_A = np.arange(0,70,1).reshape(10,7)\n",
        "vector_a = matrix_A.flatten()\n",
        "print(vector_a)"
      ],
      "metadata": {
        "colab": {
          "base_uri": "https://localhost:8080/"
        },
        "id": "n1IyU_7i91fk",
        "outputId": "4cb2ea53-c60a-49d4-81a7-9ee85a2f3c96"
      },
      "execution_count": null,
      "outputs": [
        {
          "output_type": "stream",
          "name": "stdout",
          "text": [
            "[ 0  1  2  3  4  5  6  7  8  9 10 11 12 13 14 15 16 17 18 19 20 21 22 23\n",
            " 24 25 26 27 28 29 30 31 32 33 34 35 36 37 38 39 40 41 42 43 44 45 46 47\n",
            " 48 49 50 51 52 53 54 55 56 57 58 59 60 61 62 63 64 65 66 67 68 69]\n"
          ]
        }
      ]
    },
    {
      "cell_type": "markdown",
      "source": [
        "- Chuyển vector vừa được tạo ra ở câu trên thành ma trận. (Gợi ý: sử dụng hàm reshape())"
      ],
      "metadata": {
        "id": "TJN1_8i2-MVO"
      }
    },
    {
      "cell_type": "code",
      "source": [
        "matrix_B = vector_a.reshape(10,7)\n",
        "print(matrix_B)"
      ],
      "metadata": {
        "colab": {
          "base_uri": "https://localhost:8080/"
        },
        "id": "XRmMmMA--hGX",
        "outputId": "776a9e94-360e-4f36-dd1c-c722a596fd07"
      },
      "execution_count": null,
      "outputs": [
        {
          "output_type": "stream",
          "name": "stdout",
          "text": [
            "[[ 0  1  2  3  4  5  6]\n",
            " [ 7  8  9 10 11 12 13]\n",
            " [14 15 16 17 18 19 20]\n",
            " [21 22 23 24 25 26 27]\n",
            " [28 29 30 31 32 33 34]\n",
            " [35 36 37 38 39 40 41]\n",
            " [42 43 44 45 46 47 48]\n",
            " [49 50 51 52 53 54 55]\n",
            " [56 57 58 59 60 61 62]\n",
            " [63 64 65 66 67 68 69]]\n"
          ]
        }
      ]
    },
    {
      "cell_type": "markdown",
      "source": [
        "Câu 4:Sử dụng thư viện Numpy, hãy:\n",
        "- Tạo ra 1 ma trận A10x15 với các giá trị được sinh ra bởi hàm logspace();"
      ],
      "metadata": {
        "id": "oWMKZVRk-x1F"
      }
    },
    {
      "cell_type": "code",
      "source": [
        "matrix_A = np.logspace(0,3,150).reshape(10,15)\n",
        "print(matrix_A)"
      ],
      "metadata": {
        "colab": {
          "base_uri": "https://localhost:8080/"
        },
        "id": "Y1I_y5_p-3O1",
        "outputId": "9683d915-0b1b-4b9a-a502-69e8fd69cfbb"
      },
      "execution_count": null,
      "outputs": [
        {
          "output_type": "stream",
          "name": "stdout",
          "text": [
            "[[   1.            1.04745224    1.09715619    1.1492187     1.2037517\n",
            "     1.26087241    1.32070362    1.38337396    1.44901815    1.5177773\n",
            "     1.58979923    1.66523876    1.74425806    1.827027      1.91372352]\n",
            " [   2.00453398    2.0996536     2.19928686    2.30364794    2.41296118\n",
            "     2.52746159    2.64739529    2.77302012    2.90460612    3.04243618\n",
            "     3.18680658    3.33802767    3.49642455    3.66233771    3.83612383]\n",
            " [   4.01815648    4.20882699    4.40854524    4.61774057    4.83686269\n",
            "     5.06638264    5.30679382    5.55861305    5.82238167    6.0986667\n",
            "     6.38806207    6.6911899     7.00870182    7.3412804     7.68964057]\n",
            " [   8.05453121    8.43673672    8.83707874    9.25641789    9.69565562\n",
            "    10.15573615   10.63764854   11.14242875   11.67116191   12.22498464\n",
            "    12.8050875    13.41271753   14.04918097   14.71584602   15.41414582]\n",
            " [  16.1455815    16.91172545   17.71422463   18.5548042    19.43527115\n",
            "    20.35751822   21.32352798   22.33537706   23.39524065   24.50539713\n",
            "    25.66823302   26.88624807   28.16206065   29.4984134    30.89817908]\n",
            " [  32.36436676   33.90012833   35.50876522   37.19373553   38.95866145\n",
            "    40.80733704   42.74373643   44.7720223    46.89655487   49.12190126\n",
            "    51.45284531   53.89439787   56.45180756   59.13057205   61.93644991]\n",
            " [  64.87547295   67.9539592    71.17852651   74.55610675   78.09396072\n",
            "    81.79969378   85.68127215   89.7470401    94.00573782   98.46652028\n",
            "   103.13897684  108.03315191  113.15956653  118.52924098  124.1537185 ]\n",
            " [ 130.04509005  136.21602036  142.6797751   149.45024946  156.54199797\n",
            "   163.9702658   171.75102155  179.90099156  188.43769587  197.37948588\n",
            "   206.74558383  216.55612406  226.83219637  237.59589128  248.87034759]\n",
            " [ 260.67980206  273.04964155  286.00645758  299.5781035   313.79375437\n",
            "   328.68396965  344.28075895  360.61765078  377.72976465  395.65388658\n",
            "   414.42854818  434.09410946  454.69284559  476.2690378   498.86906858]\n",
            " [ 522.54152136  547.33728495  573.30966297  600.5144884   629.01024362\n",
            "   658.85818615  690.12248029  722.87033509  757.17214883  793.10166033\n",
            "   830.73610749  870.15639332  911.44725985  954.69747033 1000.        ]]\n"
          ]
        }
      ]
    },
    {
      "cell_type": "markdown",
      "source": [
        "- Hãy trích rút dòng thứ 3 của ma trận A (tương ứng với 1 vector hàng);"
      ],
      "metadata": {
        "id": "CQNDus9Z_K_0"
      }
    },
    {
      "cell_type": "code",
      "source": [
        "row_vector = matrix_A[2, :] \n",
        "print(row_vector)"
      ],
      "metadata": {
        "colab": {
          "base_uri": "https://localhost:8080/"
        },
        "id": "svVtBvzC_MPT",
        "outputId": "83a0985d-7d9e-4544-fd26-d8dec4d3be87"
      },
      "execution_count": null,
      "outputs": [
        {
          "output_type": "stream",
          "name": "stdout",
          "text": [
            "[4.01815648 4.20882699 4.40854524 4.61774057 4.83686269 5.06638264\n",
            " 5.30679382 5.55861305 5.82238167 6.0986667  6.38806207 6.6911899\n",
            " 7.00870182 7.3412804  7.68964057]\n"
          ]
        }
      ]
    },
    {
      "cell_type": "markdown",
      "source": [
        "- Hãy trích rút ra cột thứ 5 của ma trận A (tương ứng với 1 vector cột)."
      ],
      "metadata": {
        "id": "rxqJqc6r_bcY"
      }
    },
    {
      "cell_type": "code",
      "source": [
        "col_vector = matrix_A[:, 4]\n",
        "print(col_vector)"
      ],
      "metadata": {
        "colab": {
          "base_uri": "https://localhost:8080/"
        },
        "id": "UpZ3Uznr_dc3",
        "outputId": "1119101c-12e9-434c-eb36-14a4f15d013d"
      },
      "execution_count": null,
      "outputs": [
        {
          "output_type": "stream",
          "name": "stdout",
          "text": [
            "[  1.2037517    2.41296118   4.83686269   9.69565562  19.43527115\n",
            "  38.95866145  78.09396072 156.54199797 313.79375437 629.01024362]\n"
          ]
        }
      ]
    },
    {
      "cell_type": "markdown",
      "source": [
        "Câu 5: Thực hiện các yêu cầu sau:"
      ],
      "metadata": {
        "id": "pAEs1LAJAKPZ"
      }
    },
    {
      "cell_type": "markdown",
      "source": [
        "- Xây dựng hàm tính giá trị trung bình:"
      ],
      "metadata": {
        "id": "KbIgOP85AO09"
      }
    },
    {
      "cell_type": "code",
      "source": [
        "def calculate_mean(vector_a):\n",
        "  s = 0\n",
        "  for i in vector_a:\n",
        "    s += i\n",
        "  return s/len(vector_a)"
      ],
      "metadata": {
        "id": "cnEZWik5Arh0"
      },
      "execution_count": null,
      "outputs": []
    },
    {
      "cell_type": "markdown",
      "source": [
        "- Xây dựng hàm tính giá trị trung vị:"
      ],
      "metadata": {
        "id": "-KC53ntcBFSR"
      }
    },
    {
      "cell_type": "code",
      "source": [
        "def calculate_median(vector_a):\n",
        "  len_a = len(vector_a)\n",
        "  # Sắp xếp các phần từ theo giá trị tăng dần:\n",
        "  for i in range(len_a - 1):\n",
        "    for j in range(i + 1, len_a):\n",
        "      if (vector_a[i] > vector_a[j]):\n",
        "        vector_a[i],vector_a[j] = vector_a[j], vector_a[i]\n",
        "  \n",
        "  # Tìm trung vị:\n",
        "  if (len_a % 2 != 0):\n",
        "    return vector_a[int(len_a / 2)]\n",
        "  else:\n",
        "    return ((vector_a[int((len_a-1)/2)]) + (vector_a[int((len_a-1)/2) + 1])) / 2"
      ],
      "metadata": {
        "id": "tk6MqGdMBHYB"
      },
      "execution_count": null,
      "outputs": []
    },
    {
      "cell_type": "markdown",
      "source": [
        "- Xây dựng hàm tính giá trị yếu vị:"
      ],
      "metadata": {
        "id": "s3FV1_NHEhT2"
      }
    },
    {
      "cell_type": "code",
      "source": [
        "def calculate_mode(vector_a):\n",
        "    result = []\n",
        "    # Tần số của các phần từ trong vector_a:\n",
        "    freq_dict = {}\n",
        "    for i in vector_a:\n",
        "        if i in freq_dict:\n",
        "            freq_dict[i] += 1\n",
        "        else:\n",
        "            freq_dict[i] = 1\n",
        "    \n",
        "    # Tìm tần số lớn nhất:\n",
        "    max_freq = 0\n",
        "    for i in freq_dict.values():\n",
        "        if i >= max_freq:\n",
        "            max_freq = i\n",
        "    \n",
        "    # Tìm số yếu vị:\n",
        "    for i in freq_dict:\n",
        "        if freq_dict[i] == max_freq:\n",
        "            result.append(i)\n",
        "    return result"
      ],
      "metadata": {
        "id": "M4wuU-1CEiil"
      },
      "execution_count": null,
      "outputs": []
    },
    {
      "cell_type": "markdown",
      "source": [
        "- Xây dựng hàm tính phương sai:"
      ],
      "metadata": {
        "id": "37rwRPruLFtV"
      }
    },
    {
      "cell_type": "code",
      "source": [
        "def calculate_variance(vector_a):\n",
        "  mean_a = calculate_mean(vector_a)\n",
        "  s = 0\n",
        "  for i in vector_a:\n",
        "    s += (i - mean_a) ** 2\n",
        "  return s/(len(vector_a))"
      ],
      "metadata": {
        "id": "SVh3kXfZLHld"
      },
      "execution_count": null,
      "outputs": []
    },
    {
      "cell_type": "markdown",
      "source": [
        "- Xây dựng hàm tính độ lệch chuẩn:"
      ],
      "metadata": {
        "id": "_JwBWKsfLz9p"
      }
    },
    {
      "cell_type": "code",
      "source": [
        "def calculate_sd(vector_a):\n",
        "  return calculate_variance(vector_a) ** 0.5"
      ],
      "metadata": {
        "id": "ei0ybWZUL2MA"
      },
      "execution_count": null,
      "outputs": []
    },
    {
      "cell_type": "markdown",
      "source": [
        "- Hãy tạo ra ma trận A15x10 với các giá trị sinh bởi hàm arrange():"
      ],
      "metadata": {
        "id": "AB8rANgfMUD6"
      }
    },
    {
      "cell_type": "code",
      "source": [
        "A = np.arange(1,151,1).reshape(15,10)\n",
        "print(A)"
      ],
      "metadata": {
        "colab": {
          "base_uri": "https://localhost:8080/"
        },
        "id": "xlnkZXzUMWTh",
        "outputId": "d33b7c16-2fe3-4f26-e8a4-ee1670c7c3be"
      },
      "execution_count": null,
      "outputs": [
        {
          "output_type": "stream",
          "name": "stdout",
          "text": [
            "[[  1   2   3   4   5   6   7   8   9  10]\n",
            " [ 11  12  13  14  15  16  17  18  19  20]\n",
            " [ 21  22  23  24  25  26  27  28  29  30]\n",
            " [ 31  32  33  34  35  36  37  38  39  40]\n",
            " [ 41  42  43  44  45  46  47  48  49  50]\n",
            " [ 51  52  53  54  55  56  57  58  59  60]\n",
            " [ 61  62  63  64  65  66  67  68  69  70]\n",
            " [ 71  72  73  74  75  76  77  78  79  80]\n",
            " [ 81  82  83  84  85  86  87  88  89  90]\n",
            " [ 91  92  93  94  95  96  97  98  99 100]\n",
            " [101 102 103 104 105 106 107 108 109 110]\n",
            " [111 112 113 114 115 116 117 118 119 120]\n",
            " [121 122 123 124 125 126 127 128 129 130]\n",
            " [131 132 133 134 135 136 137 138 139 140]\n",
            " [141 142 143 144 145 146 147 148 149 150]]\n"
          ]
        }
      ]
    },
    {
      "cell_type": "markdown",
      "source": [
        "- Áp dụng 5 hàm ở trên cho từng hàng của ma trận A"
      ],
      "metadata": {
        "id": "cPrRdHz_MxSf"
      }
    },
    {
      "cell_type": "markdown",
      "source": [
        "Trung bình:"
      ],
      "metadata": {
        "id": "vBIvJx90NJdM"
      }
    },
    {
      "cell_type": "code",
      "source": [
        "np.apply_along_axis(calculate_mean, 1, A)"
      ],
      "metadata": {
        "colab": {
          "base_uri": "https://localhost:8080/"
        },
        "id": "3d_7gbDTMx4S",
        "outputId": "2ba85f2e-1df3-4573-d778-49344ab96722"
      },
      "execution_count": null,
      "outputs": [
        {
          "output_type": "execute_result",
          "data": {
            "text/plain": [
              "array([  5.5,  15.5,  25.5,  35.5,  45.5,  55.5,  65.5,  75.5,  85.5,\n",
              "        95.5, 105.5, 115.5, 125.5, 135.5, 145.5])"
            ]
          },
          "metadata": {},
          "execution_count": 59
        }
      ]
    },
    {
      "cell_type": "markdown",
      "source": [
        "Trung vị:"
      ],
      "metadata": {
        "id": "_-hQlznmNNVy"
      }
    },
    {
      "cell_type": "code",
      "source": [
        "np.apply_along_axis(calculate_median, 1, A)"
      ],
      "metadata": {
        "colab": {
          "base_uri": "https://localhost:8080/"
        },
        "id": "d-CzWgGeNOzx",
        "outputId": "86f911bd-6fe3-48e1-ddaf-9fb3d5a2b4f9"
      },
      "execution_count": null,
      "outputs": [
        {
          "output_type": "execute_result",
          "data": {
            "text/plain": [
              "array([  5.5,  15.5,  25.5,  35.5,  45.5,  55.5,  65.5,  75.5,  85.5,\n",
              "        95.5, 105.5, 115.5, 125.5, 135.5, 145.5])"
            ]
          },
          "metadata": {},
          "execution_count": 58
        }
      ]
    },
    {
      "cell_type": "markdown",
      "source": [
        "Yếu vị:"
      ],
      "metadata": {
        "id": "QDu6X1e7O0DV"
      }
    },
    {
      "cell_type": "code",
      "source": [
        "np.apply_along_axis(calculate_mode, 1, A)"
      ],
      "metadata": {
        "colab": {
          "base_uri": "https://localhost:8080/"
        },
        "id": "dLqePe7aO2Cu",
        "outputId": "4a8529d6-9e05-4e12-aa05-33a129f8a3cb"
      },
      "execution_count": null,
      "outputs": [
        {
          "output_type": "execute_result",
          "data": {
            "text/plain": [
              "array([[  1,   2,   3,   4,   5,   6,   7,   8,   9,  10],\n",
              "       [ 11,  12,  13,  14,  15,  16,  17,  18,  19,  20],\n",
              "       [ 21,  22,  23,  24,  25,  26,  27,  28,  29,  30],\n",
              "       [ 31,  32,  33,  34,  35,  36,  37,  38,  39,  40],\n",
              "       [ 41,  42,  43,  44,  45,  46,  47,  48,  49,  50],\n",
              "       [ 51,  52,  53,  54,  55,  56,  57,  58,  59,  60],\n",
              "       [ 61,  62,  63,  64,  65,  66,  67,  68,  69,  70],\n",
              "       [ 71,  72,  73,  74,  75,  76,  77,  78,  79,  80],\n",
              "       [ 81,  82,  83,  84,  85,  86,  87,  88,  89,  90],\n",
              "       [ 91,  92,  93,  94,  95,  96,  97,  98,  99, 100],\n",
              "       [101, 102, 103, 104, 105, 106, 107, 108, 109, 110],\n",
              "       [111, 112, 113, 114, 115, 116, 117, 118, 119, 120],\n",
              "       [121, 122, 123, 124, 125, 126, 127, 128, 129, 130],\n",
              "       [131, 132, 133, 134, 135, 136, 137, 138, 139, 140],\n",
              "       [141, 142, 143, 144, 145, 146, 147, 148, 149, 150]])"
            ]
          },
          "metadata": {},
          "execution_count": 60
        }
      ]
    },
    {
      "cell_type": "markdown",
      "source": [
        "Phương sai:"
      ],
      "metadata": {
        "id": "hNdcr6FsPD6K"
      }
    },
    {
      "cell_type": "code",
      "source": [
        "np.apply_along_axis(calculate_variance, 1, A)"
      ],
      "metadata": {
        "colab": {
          "base_uri": "https://localhost:8080/"
        },
        "id": "7ntJXEtePE8_",
        "outputId": "94736822-d542-42f6-e6e3-993abc1b2d93"
      },
      "execution_count": null,
      "outputs": [
        {
          "output_type": "execute_result",
          "data": {
            "text/plain": [
              "array([8.25, 8.25, 8.25, 8.25, 8.25, 8.25, 8.25, 8.25, 8.25, 8.25, 8.25,\n",
              "       8.25, 8.25, 8.25, 8.25])"
            ]
          },
          "metadata": {},
          "execution_count": 67
        }
      ]
    },
    {
      "cell_type": "markdown",
      "source": [
        "Độ lệch chuẩn:"
      ],
      "metadata": {
        "id": "CFcC8cJsPMDm"
      }
    },
    {
      "cell_type": "code",
      "source": [
        "np.apply_along_axis(calculate_sd, 1, A)"
      ],
      "metadata": {
        "colab": {
          "base_uri": "https://localhost:8080/"
        },
        "id": "BhCCuQtUPNz-",
        "outputId": "637a816e-fd65-442b-d47c-bf51e41a94d1"
      },
      "execution_count": null,
      "outputs": [
        {
          "output_type": "execute_result",
          "data": {
            "text/plain": [
              "array([2.87228132, 2.87228132, 2.87228132, 2.87228132, 2.87228132,\n",
              "       2.87228132, 2.87228132, 2.87228132, 2.87228132, 2.87228132,\n",
              "       2.87228132, 2.87228132, 2.87228132, 2.87228132, 2.87228132])"
            ]
          },
          "metadata": {},
          "execution_count": 70
        }
      ]
    },
    {
      "cell_type": "markdown",
      "source": [
        "- Áp dụng 5 hàm ở trên cho từng cột của ma trận A:"
      ],
      "metadata": {
        "id": "jJb3CLU_QMwR"
      }
    },
    {
      "cell_type": "markdown",
      "source": [
        "Trung bình:"
      ],
      "metadata": {
        "id": "jqXCl0BqQQ2S"
      }
    },
    {
      "cell_type": "code",
      "source": [
        "np.apply_along_axis(calculate_mean, 0, A)"
      ],
      "metadata": {
        "colab": {
          "base_uri": "https://localhost:8080/"
        },
        "id": "rNYynZuEQR4C",
        "outputId": "ae764de6-fdfb-4b63-887d-c0eaec03c9e3"
      },
      "execution_count": null,
      "outputs": [
        {
          "output_type": "execute_result",
          "data": {
            "text/plain": [
              "array([71., 72., 73., 74., 75., 76., 77., 78., 79., 80.])"
            ]
          },
          "metadata": {},
          "execution_count": 71
        }
      ]
    },
    {
      "cell_type": "markdown",
      "source": [
        "Trung vị:"
      ],
      "metadata": {
        "id": "cCtOq4PRQSRZ"
      }
    },
    {
      "cell_type": "code",
      "source": [
        "np.apply_along_axis(calculate_median, 0, A)"
      ],
      "metadata": {
        "colab": {
          "base_uri": "https://localhost:8080/"
        },
        "id": "plhMqFP9QTmZ",
        "outputId": "b8a79b24-9904-419f-da2e-af6e0ee704a7"
      },
      "execution_count": null,
      "outputs": [
        {
          "output_type": "execute_result",
          "data": {
            "text/plain": [
              "array([71, 72, 73, 74, 75, 76, 77, 78, 79, 80])"
            ]
          },
          "metadata": {},
          "execution_count": 72
        }
      ]
    },
    {
      "cell_type": "markdown",
      "source": [
        "Yếu vị:"
      ],
      "metadata": {
        "id": "zqi63dMyQT2k"
      }
    },
    {
      "cell_type": "code",
      "source": [
        "np.apply_along_axis(calculate_mode, 0, A)"
      ],
      "metadata": {
        "colab": {
          "base_uri": "https://localhost:8080/"
        },
        "id": "O7plJRDNQU5a",
        "outputId": "8e3c950a-5782-482f-83c6-e3fcb05e6213"
      },
      "execution_count": null,
      "outputs": [
        {
          "output_type": "execute_result",
          "data": {
            "text/plain": [
              "array([[  1,   2,   3,   4,   5,   6,   7,   8,   9,  10],\n",
              "       [ 11,  12,  13,  14,  15,  16,  17,  18,  19,  20],\n",
              "       [ 21,  22,  23,  24,  25,  26,  27,  28,  29,  30],\n",
              "       [ 31,  32,  33,  34,  35,  36,  37,  38,  39,  40],\n",
              "       [ 41,  42,  43,  44,  45,  46,  47,  48,  49,  50],\n",
              "       [ 51,  52,  53,  54,  55,  56,  57,  58,  59,  60],\n",
              "       [ 61,  62,  63,  64,  65,  66,  67,  68,  69,  70],\n",
              "       [ 71,  72,  73,  74,  75,  76,  77,  78,  79,  80],\n",
              "       [ 81,  82,  83,  84,  85,  86,  87,  88,  89,  90],\n",
              "       [ 91,  92,  93,  94,  95,  96,  97,  98,  99, 100],\n",
              "       [101, 102, 103, 104, 105, 106, 107, 108, 109, 110],\n",
              "       [111, 112, 113, 114, 115, 116, 117, 118, 119, 120],\n",
              "       [121, 122, 123, 124, 125, 126, 127, 128, 129, 130],\n",
              "       [131, 132, 133, 134, 135, 136, 137, 138, 139, 140],\n",
              "       [141, 142, 143, 144, 145, 146, 147, 148, 149, 150]])"
            ]
          },
          "metadata": {},
          "execution_count": 73
        }
      ]
    },
    {
      "cell_type": "markdown",
      "source": [
        "Phương sai:"
      ],
      "metadata": {
        "id": "JFVLDgy0QVAa"
      }
    },
    {
      "cell_type": "code",
      "source": [
        "np.apply_along_axis(calculate_variance, 0, A)"
      ],
      "metadata": {
        "colab": {
          "base_uri": "https://localhost:8080/"
        },
        "id": "k121TumBQWr-",
        "outputId": "6d784fc8-52b4-41b2-a8b2-60ab424d49b9"
      },
      "execution_count": null,
      "outputs": [
        {
          "output_type": "execute_result",
          "data": {
            "text/plain": [
              "array([1866.66666667, 1866.66666667, 1866.66666667, 1866.66666667,\n",
              "       1866.66666667, 1866.66666667, 1866.66666667, 1866.66666667,\n",
              "       1866.66666667, 1866.66666667])"
            ]
          },
          "metadata": {},
          "execution_count": 74
        }
      ]
    },
    {
      "cell_type": "markdown",
      "source": [
        "Độ lệch chuẩn:"
      ],
      "metadata": {
        "id": "C11mkronQWyK"
      }
    },
    {
      "cell_type": "code",
      "source": [
        "np.apply_along_axis(calculate_sd, 0, A)"
      ],
      "metadata": {
        "colab": {
          "base_uri": "https://localhost:8080/"
        },
        "id": "S-Dujip7QYy6",
        "outputId": "354f5215-9ade-48be-c5f5-4f615034d118"
      },
      "execution_count": null,
      "outputs": [
        {
          "output_type": "execute_result",
          "data": {
            "text/plain": [
              "array([43.20493799, 43.20493799, 43.20493799, 43.20493799, 43.20493799,\n",
              "       43.20493799, 43.20493799, 43.20493799, 43.20493799, 43.20493799])"
            ]
          },
          "metadata": {},
          "execution_count": 75
        }
      ]
    }
  ]
}