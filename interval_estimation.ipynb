{
  "nbformat": 4,
  "nbformat_minor": 0,
  "metadata": {
    "colab": {
      "name": "interval_estimation.ipynb",
      "provenance": [],
      "collapsed_sections": [],
      "authorship_tag": "ABX9TyOGPisyhcXFSc+x2epWZ4ST",
      "include_colab_link": true
    },
    "kernelspec": {
      "name": "python3",
      "display_name": "Python 3"
    },
    "language_info": {
      "name": "python"
    }
  },
  "cells": [
    {
      "cell_type": "markdown",
      "metadata": {
        "id": "view-in-github",
        "colab_type": "text"
      },
      "source": [
        "<a href=\"https://colab.research.google.com/github/LBQTrung/NumPy/blob/main/interval_estimation.ipynb\" target=\"_parent\"><img src=\"https://colab.research.google.com/assets/colab-badge.svg\" alt=\"Open In Colab\"/></a>"
      ]
    },
    {
      "cell_type": "markdown",
      "source": [
        "Để tính toán liên quan đến xác suất thông kê, ta dùng thư viện scipy"
      ],
      "metadata": {
        "id": "SehGkMNkCjB-"
      }
    },
    {
      "cell_type": "markdown",
      "source": [
        "Import các thư viện cần thiết:"
      ],
      "metadata": {
        "id": "R9uLakFxCnln"
      }
    },
    {
      "cell_type": "code",
      "source": [
        "import numpy as np\n",
        "import scipy.stats as st"
      ],
      "metadata": {
        "id": "MAeWw8FACsz3"
      },
      "execution_count": 22,
      "outputs": []
    },
    {
      "cell_type": "markdown",
      "source": [
        "Tạo một dữ liệu mẫu bằng random.normal"
      ],
      "metadata": {
        "id": "0lvgiaX-DSQW"
      }
    },
    {
      "cell_type": "code",
      "source": [
        "sample_data = np.random.normal(size = 50, loc = 100, scale = 20)"
      ],
      "metadata": {
        "id": "wOwNaVsvDeaI"
      },
      "execution_count": 8,
      "outputs": []
    },
    {
      "cell_type": "markdown",
      "source": [
        "Kiểm tra dữ liệu:"
      ],
      "metadata": {
        "id": "pEYJotgiDy3b"
      }
    },
    {
      "cell_type": "code",
      "source": [
        "sample_data"
      ],
      "metadata": {
        "colab": {
          "base_uri": "https://localhost:8080/"
        },
        "id": "juHFuPQsD05y",
        "outputId": "761dc6c5-217e-4ed4-c0da-f3b40300ea5f"
      },
      "execution_count": 9,
      "outputs": [
        {
          "output_type": "execute_result",
          "data": {
            "text/plain": [
              "array([103.07281612, 115.32398417, 102.93827901,  94.82965694,\n",
              "       105.84081293, 101.58652888, 122.22181277,  82.74936662,\n",
              "       102.19880194,  82.03777792,  81.61444337,  83.34169568,\n",
              "        73.55323224, 115.52740611, 130.17308527, 117.83635213,\n",
              "        94.80339023,  89.9782862 ,  93.89696175,  92.34442834,\n",
              "       104.28074545, 116.70200654, 107.54252683,  91.62803242,\n",
              "       101.93054775,  80.905256  ,  89.85366464, 108.14630102,\n",
              "        81.54466125,  87.54285089,  81.28106837,  72.03317523,\n",
              "       115.68223047,  98.87659926,  82.68334571,  74.2741539 ,\n",
              "       115.59687125,  79.731694  ,  91.77600862, 120.88634517,\n",
              "        61.10855343,  72.25165782,  91.78284052,  92.28731641,\n",
              "       106.46213151,  73.22293868,  94.03065498, 109.68938477,\n",
              "        99.26883028,  58.98196615])"
            ]
          },
          "metadata": {},
          "execution_count": 9
        }
      ]
    },
    {
      "cell_type": "markdown",
      "source": [
        "Ta tiến hành ước lượng khoảng cho tổng thể với độ tin cậy là 95%"
      ],
      "metadata": {
        "id": "hvTbromEEEq8"
      }
    },
    {
      "cell_type": "markdown",
      "source": [
        "Vì mẫu có trên 30 phần từ nên ta dùng thống kê normal distribution:"
      ],
      "metadata": {
        "id": "HIHfhSJxM1j9"
      }
    },
    {
      "cell_type": "code",
      "source": [
        "st.norm.interval(alpha=0.95, loc=np.mean(sample_data), scale=st.sem(sample_data)) "
      ],
      "metadata": {
        "colab": {
          "base_uri": "https://localhost:8080/"
        },
        "id": "7nJUtOKNEIwJ",
        "outputId": "7a3d6138-3828-490b-f7c2-83b439645b4a"
      },
      "execution_count": 31,
      "outputs": [
        {
          "output_type": "execute_result",
          "data": {
            "text/plain": [
              "(90.42333899762353, 99.49080012047573)"
            ]
          },
          "metadata": {},
          "execution_count": 31
        }
      ]
    },
    {
      "cell_type": "markdown",
      "source": [
        "Trong đó:\n",
        "- np.mean: giá trị trung bình\n",
        "- st.sem: sai số chuẩn\n",
        "- alpha: độ tin cậy"
      ],
      "metadata": {
        "id": "u8zjCgjwNqfu"
      }
    },
    {
      "cell_type": "markdown",
      "source": [
        "Vơi dữ liệu mẫu nhỏ (mẫu < 30):"
      ],
      "metadata": {
        "id": "ecUTcijKMWxg"
      }
    },
    {
      "cell_type": "code",
      "source": [
        "sampe_data2 = [12,20,30,50,30,40, 23, 25, 26, 27, 28, 28, 29]"
      ],
      "metadata": {
        "id": "keXoQ2U9MZSR"
      },
      "execution_count": 33,
      "outputs": []
    },
    {
      "cell_type": "markdown",
      "source": [
        "Ta tiến hành ước lượng khoảng cho tổng thể với độ tin cậy là 95%, ta dùng thống kê student's t distribution như sau:"
      ],
      "metadata": {
        "id": "yvTne6UaMlg7"
      }
    },
    {
      "cell_type": "code",
      "source": [
        "st.t.interval(alpha=0.95, df=len(sampe_data2)-1, loc=np.mean(sampe_data2), scale=st.sem(sampe_data2)) "
      ],
      "metadata": {
        "colab": {
          "base_uri": "https://localhost:8080/"
        },
        "id": "iXsKT6VGMmFb",
        "outputId": "9aa31f2d-4afa-438a-a1b7-489376d1cfdd"
      },
      "execution_count": 34,
      "outputs": [
        {
          "output_type": "execute_result",
          "data": {
            "text/plain": [
              "(22.805714978731128, 33.80966963665348)"
            ]
          },
          "metadata": {},
          "execution_count": 34
        }
      ]
    }
  ]
}