{
  "nbformat": 4,
  "nbformat_minor": 0,
  "metadata": {
    "colab": {
      "name": "numpy_exercises_3.ipynb",
      "provenance": [],
      "collapsed_sections": [],
      "authorship_tag": "ABX9TyPyFhHUAoW0c8p3KNoZCqv3",
      "include_colab_link": true
    },
    "kernelspec": {
      "name": "python3",
      "display_name": "Python 3"
    },
    "language_info": {
      "name": "python"
    }
  },
  "cells": [
    {
      "cell_type": "markdown",
      "metadata": {
        "id": "view-in-github",
        "colab_type": "text"
      },
      "source": [
        "<a href=\"https://colab.research.google.com/github/LBQTrung/NumPy/blob/main/numpy_exercises_3.ipynb\" target=\"_parent\"><img src=\"https://colab.research.google.com/assets/colab-badge.svg\" alt=\"Open In Colab\"/></a>"
      ]
    },
    {
      "cell_type": "markdown",
      "source": [
        "Câu 1: Hãy trình bày cú pháp của hàm apply_along_axis() và ý nghĩa của từng tham số của hàm này."
      ],
      "metadata": {
        "id": "irCOt4KwqokR"
      }
    },
    {
      "cell_type": "markdown",
      "source": [
        "1. Cú pháp:"
      ],
      "metadata": {
        "id": "v7J6V1NZraUo"
      }
    },
    {
      "cell_type": "markdown",
      "source": [
        "numpy.apply_along_axis(func1d, axis, arr, *args, **kwargs)"
      ],
      "metadata": {
        "id": "uzG2x3HlrbgJ"
      }
    },
    {
      "cell_type": "markdown",
      "source": [
        "2. Ý nghĩa của từng tham số:"
      ],
      "metadata": {
        "id": "-uEveXSMrdEJ"
      }
    },
    {
      "cell_type": "markdown",
      "source": [
        "* func1d: Hàm này phải chấp nhận mảng một chiều. Nó được áp dụng cho các hàng hoặc cột của arr theo trục được chỉ định."
      ],
      "metadata": {
        "id": "GPnxRYgmrgkZ"
      }
    },
    {
      "cell_type": "markdown",
      "source": [
        "* axis: Xác định trục để arr được cắt."
      ],
      "metadata": {
        "id": "KSQXJvSTrxEg"
      }
    },
    {
      "cell_type": "markdown",
      "source": [
        "* arr: Mảng đầu vào"
      ],
      "metadata": {
        "id": "CEfyU0uS2u8l"
      }
    },
    {
      "cell_type": "markdown",
      "source": [
        "* kwargs: Các đối số được đặt tên bổ sung cho func1d."
      ],
      "metadata": {
        "id": "wq0O7nfhr04B"
      }
    },
    {
      "cell_type": "markdown",
      "source": [
        "3. Hàm trả về: Một mảng có hình dạng giống mảng đầu vào, ngoại trừ giá trị theo các trục được thay thế bằng các giá trị mới bằng giá trị trả về của func1d."
      ],
      "metadata": {
        "id": "-UkWUikcr5up"
      }
    },
    {
      "cell_type": "markdown",
      "source": [
        "Câu 2: Tạo một ma trận A15x17 có giá trị ngẫu nhiên"
      ],
      "metadata": {
        "id": "VTahDgf-sXQB"
      }
    },
    {
      "cell_type": "markdown",
      "source": [
        "Import thư viện Numpy: "
      ],
      "metadata": {
        "id": "sNH06D4ms0q5"
      }
    },
    {
      "cell_type": "code",
      "source": [
        "import numpy as np"
      ],
      "metadata": {
        "id": "5MLMyXKEsyQo"
      },
      "execution_count": null,
      "outputs": []
    },
    {
      "cell_type": "code",
      "source": [
        "A = np.random.randint(0,20, (15,17))\n",
        "print(A)"
      ],
      "metadata": {
        "colab": {
          "base_uri": "https://localhost:8080/"
        },
        "id": "vq7flXI1sg8Q",
        "outputId": "bcddf77a-3247-4857-a00f-8f97e21ffa57"
      },
      "execution_count": null,
      "outputs": [
        {
          "output_type": "stream",
          "name": "stdout",
          "text": [
            "[[ 8 18 10 19  5  4  8  8 13 14 16 19 10  8 17  0 10]\n",
            " [19  7 12 11 15 16 14  3 14  7  3 19  6 17  0  6  9]\n",
            " [16 11 18  2  0 11 10 14 16  9 16  8 14 14  4  8  8]\n",
            " [ 4  6  7  8  5  6 11  5 14  4 11 12  3  9  7  4  9]\n",
            " [11  8 16 10 19  8  8  8 17  5  5  9 14  3 19  8 15]\n",
            " [15  4 17 18  6 16 14 17 14  3 12  5 19 15  1  2 10]\n",
            " [ 9  7 16  8  3 11 18 10 11  9  2  2 14  3  0  9 14]\n",
            " [ 4  7  9  4 13  7 13  6 13 10 14  9  2  0  7 14 13]\n",
            " [ 2  7  2 10  0  6  5 18 17  2  4 10  6  1 15 17 16]\n",
            " [ 2 17  0 14 14  6  7 15 14  4  3  4 10  2 16 17  5]\n",
            " [13 13 13 13  9 10  6 14 11  6 11 13 16  0  3  5 10]\n",
            " [ 9 12  8 13 14 13 13 14 18 13  9 16  9 19  4 17  7]\n",
            " [ 1  6  9  7 13  6 10  5 12  6  5 11  7 17  2 17  8]\n",
            " [10  3  3 14  7  0 15  5  7  6  2 18  6  5  7  5  0]\n",
            " [ 6  8 17 15  6 14  9  1 19  1  3 10  4 16 11  0  4]]\n"
          ]
        }
      ]
    },
    {
      "cell_type": "markdown",
      "source": [
        "Câu 3: Xây dựng hàm tìm giá trị lớn nhất có tên là tim_gia_tri_lon_nhat(vector_a) có tham số\n",
        "đầu vào là 1 vector a và giá trị trả về là giá trị phần tử lớn nhất của vector này. Áp dụng hàm này\n",
        "theo từng hàng của ma trận A ở Câu 1 và xuất kết quả ra màn hình."
      ],
      "metadata": {
        "id": "D9kNanLWuWGK"
      }
    },
    {
      "cell_type": "code",
      "source": [
        "def tim_gia_tri_lon_nhat(vector_a):\n",
        "  return np.max(vector_a)\n",
        "print(\"Tập các giá trị lớn nhất của các hàng: \\n\",np.apply_along_axis(tim_gia_tri_lon_nhat, 1, A))\n"
      ],
      "metadata": {
        "colab": {
          "base_uri": "https://localhost:8080/"
        },
        "id": "i6i1zLr9uYPw",
        "outputId": "1c5bdbe7-4ccc-41d4-cf36-10a23b71b0ea"
      },
      "execution_count": null,
      "outputs": [
        {
          "output_type": "stream",
          "name": "stdout",
          "text": [
            "Tập các giá trị lớn nhất của các hàng: \n",
            " [19 19 18 14 19 19 18 14 18 17 16 19 17 18 19]\n"
          ]
        }
      ]
    },
    {
      "cell_type": "markdown",
      "source": [
        "Câu 4: Xây dựng hàm tìm giá trị nhỏ nhất có tên là tim_gia_tri_nho_nhat(vector_a) có tham số\n",
        "đầu vào là 1 vector a và giá trị trả về là giá trị phần tử nhỏ nhất của vector này. Áp dụng hàm này\n",
        "theo từng cột của ma trận A ở Câu 1 và xuất kết quả ra màn hình."
      ],
      "metadata": {
        "id": "XjDd55DdxZ43"
      }
    },
    {
      "cell_type": "code",
      "source": [
        "def tim_gia_tri_nho_nhat(vector_a):\n",
        "  return np.min(vector_a)\n",
        "print(\"Tập các giá trị nhỏ nhất của các cột: \\n\",np.apply_along_axis(tim_gia_tri_nho_nhat, 0, A))"
      ],
      "metadata": {
        "colab": {
          "base_uri": "https://localhost:8080/"
        },
        "id": "6ixn-b7hxfGH",
        "outputId": "803cba32-9ade-4e36-85eb-1e5608095940"
      },
      "execution_count": null,
      "outputs": [
        {
          "output_type": "stream",
          "name": "stdout",
          "text": [
            "Tập các giá trị nhỏ nhất của các cột: \n",
            " [1 3 0 2 0 0 5 1 7 1 2 2 2 0 0 0 0]\n"
          ]
        }
      ]
    },
    {
      "cell_type": "markdown",
      "source": [
        "Câu 5: Xây dựng hàm tìm giá trị lớn nhất có tên là tinh_tong(vector_a) có tham số đầu vào là 1\n",
        "vector a và giá trị trả về là tổng các phần tử của vector này. Áp dụng hàm này theo từng hàng của\n",
        "ma trận A ở Câu 1 và xuất kết quả ra màn hình."
      ],
      "metadata": {
        "id": "cyz_9P3kxqHv"
      }
    },
    {
      "cell_type": "code",
      "source": [
        "def tinh_tong(vector_a):\n",
        "  return np.sum(vector_a)\n",
        "print(\"Tập các tổng giá trị các hàng: \\n\",np.apply_along_axis(tinh_tong, 1, A))"
      ],
      "metadata": {
        "colab": {
          "base_uri": "https://localhost:8080/"
        },
        "id": "bbbiP3GVxrk3",
        "outputId": "6f363598-4074-474a-843b-d42cde693962"
      },
      "execution_count": null,
      "outputs": [
        {
          "output_type": "stream",
          "name": "stdout",
          "text": [
            "Tập các tổng giá trị các hàng: \n",
            " [187 178 179 125 183 188 146 145 138 150 166 208 142 113 144]\n"
          ]
        }
      ]
    },
    {
      "cell_type": "markdown",
      "source": [
        "Câu 6: Xây dựng hàm tìm có tên là tinh_tong_2(vector_a) có tham số đầu vào là\n",
        "1 vector a và giá trị trả về là tổng các phần tử có chỉ số lẻ (1 – 3 – 5 , .v.v.) của vector này. Áp\n",
        "dụng hàm này theo từng cột của ma trận A ở Câu 1 và xuất kết quả ra màn hình. Tiếp tục áp dụng\n",
        "hàm này theo từng hàng của ma trận A kể trên và xuất kết quả ra màn hình."
      ],
      "metadata": {
        "id": "1CMfs-_9y7Go"
      }
    },
    {
      "cell_type": "code",
      "source": [
        "def tinh_tong_2(vector_a):\n",
        "  s = 0\n",
        "  for i in range(len(vector_a)):\n",
        "    if (i % 2 != 0):\n",
        "      s += vector_a[i]\n",
        "  return s\n",
        "\n",
        "print(\"Tập các tổng các giá trị có index lẻ của hàng: \\n\", np.apply_along_axis(tinh_tong_2, 1, A))"
      ],
      "metadata": {
        "colab": {
          "base_uri": "https://localhost:8080/"
        },
        "id": "87e8og11y_D3",
        "outputId": "84b4a94e-2254-49b4-a23f-fa8cac674224"
      },
      "execution_count": null,
      "outputs": [
        {
          "output_type": "stream",
          "name": "stdout",
          "text": [
            "Tập các tổng các giá trị có index lẻ của hàng: \n",
            " [ 90  86  77  54  59  80  59  57  71  79  74 117  75  56  65]\n"
          ]
        }
      ]
    }
  ]
}